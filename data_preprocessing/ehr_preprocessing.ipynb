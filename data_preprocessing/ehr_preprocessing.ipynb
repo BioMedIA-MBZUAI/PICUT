{
 "cells": [
  {
   "cell_type": "markdown",
   "metadata": {},
   "source": [
    "# Data Preprocessing\n",
    "\n",
    "This notebook details the data preprocessing steps from raw tabular data in electronic health records to text sequences. The relational database was obtained from [PhysioNet](https://physionet.org/content/mimiciv/1.0/)."
   ]
  },
  {
   "cell_type": "markdown",
   "metadata": {
    "id": "Y42D1EhTOIR3"
   },
   "source": [
    "## Data Querying\n",
    "\n",
    "Download MIMIC-IV v1.0 dataset, query the information correctly to reduce the dataset to a table containing: patients identifiers, admission identifiers, admission and discharge date-times, marital status, etnicity, gender, anchor_age, codes or medical information, clinician's importance on codes, and any variables of interest."
   ]
  },
  {
   "cell_type": "markdown",
   "metadata": {},
   "source": [
    "![EHR_data](example_data.png)"
   ]
  },
  {
   "cell_type": "markdown",
   "metadata": {},
   "source": [
    "## Pre-training Datasets"
   ]
  },
  {
   "cell_type": "markdown",
   "metadata": {
    "id": "ByOu2VklTksB"
   },
   "source": [
    "### Sequence creation (FULL VISIT)"
   ]
  },
  {
   "cell_type": "code",
   "execution_count": null,
   "metadata": {},
   "outputs": [],
   "source": [
    "import os\n",
    "import re\n",
    "import functools\n",
    "import numpy as np\n",
    "import pandas as pd\n",
    "try:\n",
    "    import cPickle as pickle\n",
    "except:\n",
    "    import pickle"
   ]
  },
  {
   "cell_type": "code",
   "execution_count": 27,
   "metadata": {
    "id": "hkABVeM1xs2Z"
   },
   "outputs": [],
   "source": [
    "# Load data\n",
    "pid_data_directory = './MIMIC-IV/PID_DEMOGRAPHIC/pid_data_hosp.pkl'\n",
    "with open(pid_data_directory, 'rb') as f:\n",
    "    pid_data = pickle.load(f)"
   ]
  },
  {
   "cell_type": "code",
   "execution_count": 28,
   "metadata": {
    "colab": {
     "base_uri": "https://localhost:8080/"
    },
    "executionInfo": {
     "elapsed": 10,
     "status": "ok",
     "timestamp": 1627140403949,
     "user": {
      "displayName": "Diego Sáenz",
      "photoUrl": "https://lh3.googleusercontent.com/a-/AOh14Gjv_Ml1Ae2A5RhLeDd7Exj7G6ZVKlCYPrD9Rpeb7w=s64",
      "userId": "00681222444687719969"
     },
     "user_tz": -240
    },
    "id": "D375U_XHhshi",
    "outputId": "03e88ec5-3611-40bf-f934-66c9d270cbfd"
   },
   "outputs": [
    {
     "data": {
      "text/plain": [
       "256587"
      ]
     },
     "execution_count": 28,
     "metadata": {},
     "output_type": "execute_result"
    }
   ],
   "source": [
    "# Total number of patients\n",
    "pids = pid_data.subject_id.unique()\n",
    "len(pids)"
   ]
  },
  {
   "cell_type": "code",
   "execution_count": 29,
   "metadata": {},
   "outputs": [],
   "source": [
    "# Find recurrent patients\n",
    "recurrent = pid_data.groupby('subject_id')['hadm_id'].nunique().reset_index()\n",
    "recurrent = recurrent[recurrent.hadm_id > 1]\n",
    "recurrent = set(recurrent.subject_id)\n",
    "recurrent_pids = list(recurrent)"
   ]
  },
  {
   "cell_type": "code",
   "execution_count": 30,
   "metadata": {},
   "outputs": [],
   "source": [
    "import random\n",
    "from sklearn.model_selection import train_test_split\n",
    "\n",
    "random.seed(12345)\n",
    "\n",
    "pretrain_size = int(len(pids) - 50000)\n",
    "fine_size = int(50000)\n",
    "\n",
    "mlm_pids, fine_pids = train_test_split(pids, test_size=fine_size / len(pids), random_state=12345)\n",
    "train_mlm_pids, val_mlm_pids = train_test_split(mlm_pids, test_size=0.1, random_state=12345)\n",
    "test_mlm_pids = fine_pids"
   ]
  },
  {
   "cell_type": "markdown",
   "metadata": {
    "id": "lbL7oc5PqE5e"
   },
   "source": [
    "It is too slow to do this loop, so we do parallel processing:"
   ]
  },
  {
   "cell_type": "code",
   "execution_count": 32,
   "metadata": {
    "colab": {
     "base_uri": "https://localhost:8080/"
    },
    "executionInfo": {
     "elapsed": 1137870,
     "status": "ok",
     "timestamp": 1626608232987,
     "user": {
      "displayName": "Diego Sáenz",
      "photoUrl": "https://lh3.googleusercontent.com/a-/AOh14Gjv_Ml1Ae2A5RhLeDd7Exj7G6ZVKlCYPrD9Rpeb7w=s64",
      "userId": "00681222444687719969"
     },
     "user_tz": -240
    },
    "id": "3xTeJGlhknKx",
    "outputId": "9d34f76d-e113-4ca0-e695-1419baf82edd"
   },
   "outputs": [
    {
     "name": "stdout",
     "output_type": "stream",
     "text": [
      "Building patients sequences...\n",
      "Building train pretrain normal patients sequences...\n",
      "Building validation pretrain normal patients sequences...\n",
      "Building test pretrain normal patients sequences...\n",
      "CPU times: user 4.26 s, sys: 22.2 s, total: 26.5 s\n",
      "Wall time: 3min 34s\n"
     ]
    }
   ],
   "source": [
    "%%time\n",
    "print('Building patients sequences...')\n",
    "import re\n",
    "import random\n",
    "import multiprocessing\n",
    "\n",
    "def pid_seq_picut(pid):\n",
    "    group = pid_data[pid_data['subject_id'].isin([pid])]\n",
    "    full_seq = []\n",
    "    diag_seq = []\n",
    "    input_full_seq = []\n",
    "    had_stroke = max(group['had_stroke'])\n",
    "    hospitalized = max(group['hospitalized'])\n",
    "    died = max(group['died'])\n",
    "    num_visits = 0\n",
    "\n",
    "    regexp_dia9 = re.compile(r'DIA9_')\n",
    "    regexp_dia10 = re.compile(r'DIA10_')\n",
    "\n",
    "    patient_demographic = \" \" + group['anchor_age'].unique()[0] + \" \" + group['marital_status'].unique()[0] + \" \" + group['ethnicity'].unique()[0] + \" \" + group['gender'].unique()[0]\n",
    "    patient_demographic = re.sub(' +', ' ', patient_demographic)\n",
    "\n",
    "    for time, subgroup in group.sort_values(['dischtime','seq_num'], \n",
    "                                            ascending=True).groupby('dischtime', sort=False):\n",
    "        num_visits += 1\n",
    "        code_list = np.array(subgroup['med_code'].drop_duplicates()).tolist()\n",
    "\n",
    "        if len(code_list) > 1:\n",
    "            code_lm = ''\n",
    "            diag_code = ''\n",
    "            for code in code_list:\n",
    "                code_lm += code + ' '\n",
    "                if regexp_dia9.search(code) or regexp_dia10.search(code):\n",
    "                    diag_code += code + ' '\n",
    "        else:\n",
    "            code_lm = code_list[0] + ' '\n",
    "            diag_code = ''\n",
    "            if regexp_dia9.search(code_list[0]) or regexp_dia10.search(code_list[0]):\n",
    "                diag_code += code_list[0] + ' '\n",
    "            else:\n",
    "                diag_code += ' '\n",
    "\n",
    "        code_lm = code_lm[:-1]\n",
    "        diag_code = diag_code[:-1]\n",
    "        full_seq.append(code_lm)\n",
    "        diag_seq.append(diag_code)\n",
    "        # if num_visits % 3 != 0:\n",
    "        input_full_seq.append(code_lm)\n",
    "    \n",
    "    visits = ' & '.join(full_seq)\n",
    "    input_visits = ' & '.join(input_full_seq)\n",
    "    output_text = ' & '.join(diag_seq)\n",
    "\n",
    "    input_text = \"PID:\" + patient_demographic + \" $ \" + input_visits\n",
    "\n",
    "    return {'id': pid, 'demographic_info': patient_demographic, 'original_text': visits, 'input_text': input_text, 'output_text': output_text}\n",
    "\n",
    "# Train Pretrain\n",
    "with multiprocessing.Pool(processes=80) as pool_obj:\n",
    "    print('Building train pretrain normal patients sequences...')\n",
    "    train_mlm_pid_seq = pool_obj.map(pid_seq_picut, train_mlm_pids)\n",
    "\n",
    "# Validation Pretrain\n",
    "with multiprocessing.Pool(processes=80) as pool_obj:\n",
    "    print('Building validation pretrain normal patients sequences...')\n",
    "    val_mlm_pid_seq = pool_obj.map(pid_seq_picut, val_mlm_pids)\n",
    "\n",
    "# Test Pretrain\n",
    "with multiprocessing.Pool(processes=80) as pool_obj:\n",
    "    print('Building test pretrain normal patients sequences...')\n",
    "    test_mlm_pid_seq = pool_obj.map(pid_seq_picut, test_mlm_pids)"
   ]
  },
  {
   "cell_type": "code",
   "execution_count": 33,
   "metadata": {
    "id": "3S9l-6s13Jg7"
   },
   "outputs": [],
   "source": [
    "# Write out the data\n",
    "out_directory = './MIMIC-IV/PID_Sequences'\n",
    "\n",
    "if not os.path.exists(out_directory):\n",
    "    os.makedirs(out_directory)\n",
    "\n",
    "# Preprocessed Patients Sequences\n",
    "with open(out_directory + '/train_mlm_pid_seq.pkl', 'wb') as f:\n",
    "    pickle.dump(train_mlm_pid_seq, f, protocol=pickle.HIGHEST_PROTOCOL)\n",
    "\n",
    "with open(out_directory + '/val_mlm_pid_seq.pkl', 'wb') as f:\n",
    "    pickle.dump(val_mlm_pid_seq, f, protocol=pickle.HIGHEST_PROTOCOL)\n",
    "\n",
    "with open(out_directory + '/test_mlm_pid_seq.pkl', 'wb') as f:\n",
    "    pickle.dump(test_mlm_pid_seq, f, protocol=pickle.HIGHEST_PROTOCOL)"
   ]
  },
  {
   "cell_type": "code",
   "execution_count": 31,
   "metadata": {
    "id": "JymQwFpv3yvM"
   },
   "outputs": [],
   "source": [
    "# Load Patient Sequences\n",
    "out_directory = './MIMIC-IV/PID_Sequences'\n",
    "\n",
    "with open(out_directory + '/train_mlm_pid_seq.pkl', 'rb') as f:\n",
    "    train_mlm_pid_seq = pickle.load(f)\n",
    "\n",
    "with open(out_directory + '/val_mlm_pid_seq.pkl', 'rb') as f:\n",
    "    val_mlm_pid_seq = pickle.load(f)\n",
    "\n",
    "with open(out_directory + '/test_mlm_pid_seq.pkl', 'rb') as f:\n",
    "    test_mlm_pid_seq = pickle.load(f)"
   ]
  },
  {
   "cell_type": "code",
   "execution_count": 48,
   "metadata": {
    "colab": {
     "base_uri": "https://localhost:8080/"
    },
    "executionInfo": {
     "elapsed": 1476,
     "status": "ok",
     "timestamp": 1627140407666,
     "user": {
      "displayName": "Diego Sáenz",
      "photoUrl": "https://lh3.googleusercontent.com/a-/AOh14Gjv_Ml1Ae2A5RhLeDd7Exj7G6ZVKlCYPrD9Rpeb7w=s64",
      "userId": "00681222444687719969"
     },
     "user_tz": -240
    },
    "id": "wiVMCXrK5VRU",
    "outputId": "7d8f7735-577b-48ec-a1a7-2c2e950e22cf"
   },
   "outputs": [
    {
     "name": "stdout",
     "output_type": "stream",
     "text": [
      "Splitting pretraining and fine-tuning datsets...\n"
     ]
    }
   ],
   "source": [
    "print('Splitting pretraining and fine-tuning datsets...')\n",
    "from sklearn.model_selection import train_test_split\n",
    "\n",
    "pretrain_mlm_pids = [*train_mlm_pid_seq, *val_mlm_pid_seq, *test_mlm_pid_seq]"
   ]
  },
  {
   "cell_type": "code",
   "execution_count": 49,
   "metadata": {},
   "outputs": [
    {
     "data": {
      "text/plain": [
       "{'id': 14029653,\n",
       " 'demographic_info': ' 51 years old married white female',\n",
       " 'original_text': 'DIA9_2189 PRO9_6859 DIA9_6262 DIA9_V103 2 Hematology Blood abnormal {Hematocrit}',\n",
       " 'input_text': 'PID: 51 years old married white female $ DIA9_2189 PRO9_6859 DIA9_6262 DIA9_V103 2 Hematology Blood abnormal {Hematocrit}',\n",
       " 'output_text': 'DIA9_2189 DIA9_6262 DIA9_V103'}"
      ]
     },
     "execution_count": 49,
     "metadata": {},
     "output_type": "execute_result"
    }
   ],
   "source": [
    "train_mlm_pid_seq[random.randint(1, len(train_mlm_pid_seq))]"
   ]
  },
  {
   "cell_type": "code",
   "execution_count": 50,
   "metadata": {
    "colab": {
     "base_uri": "https://localhost:8080/"
    },
    "executionInfo": {
     "elapsed": 19,
     "status": "ok",
     "timestamp": 1627140407671,
     "user": {
      "displayName": "Diego Sáenz",
      "photoUrl": "https://lh3.googleusercontent.com/a-/AOh14Gjv_Ml1Ae2A5RhLeDd7Exj7G6ZVKlCYPrD9Rpeb7w=s64",
      "userId": "00681222444687719969"
     },
     "user_tz": -240
    },
    "id": "cpXUKe2H6i2J",
    "outputId": "8370a750-6fc0-4259-84d5-38c2244bfb76"
   },
   "outputs": [
    {
     "name": "stdout",
     "output_type": "stream",
     "text": [
      "Pre-train datasets:\n",
      "Training size: 185928 (90.0%)\n",
      "Validation size: 10330 (5.0%)\n",
      "\n",
      "Test size: 10329 (5.0%)\n",
      "\n"
     ]
    }
   ],
   "source": [
    "print('Pre-train datasets:')\n",
    "print(f'Training size: {len(train_mlm_pid_seq)} ({round(len(train_mlm_pid_seq) / len(pretrain_mlm_pids), 2) * 100}%)')\n",
    "print(f'Validation size: {len(val_mlm_pid_seq)} ({round(len(val_mlm_pid_seq) / len(pretrain_mlm_pids), 2) * 100}%)\\n')\n",
    "print(f'Test size: {len(test_mlm_pid_seq)} ({round(len(test_mlm_pid_seq) / len(pretrain_mlm_pids), 2) * 100}%)\\n')"
   ]
  },
  {
   "cell_type": "code",
   "execution_count": 51,
   "metadata": {},
   "outputs": [],
   "source": [
    "import pickle\n",
    "from tqdm.auto import tqdm\n",
    "\n",
    "def create_text_seq(data, txt_dir):\n",
    "    text_data = []\n",
    "    file_count = 0\n",
    "\n",
    "    for sample in tqdm(data):\n",
    "        text_data.append(sample['demographic_info'])\n",
    "        text_data.append(sample['original_text'])\n",
    "        if len(text_data) == 5000:\n",
    "            # once we hit the 5K mark, save to file\n",
    "            if not os.path.exists(txt_dir):\n",
    "                os.makedirs(txt_dir)\n",
    "            with open(f'{txt_dir}/text_{file_count}.txt', 'w', encoding='utf-8') as fp:\n",
    "                fp.write('\\n'.join(text_data))\n",
    "            text_data = []\n",
    "            file_count += 1\n",
    "            print(f\"Saved {5000 + (5000 * (file_count - 1))} patients\")\n",
    "\n",
    "    if (len(data) % 5000) != 0:\n",
    "        with open(f'{txt_dir}/text_{file_count}.txt', 'w', encoding='utf-8') as fp:\n",
    "            fp.write('\\n'.join(text_data))\n",
    "        print(f\"Saved {5000 + (5000 * (file_count - 1)) + len(text_data)} patients\")\n",
    "\n",
    "def create_pid_seq(data, pid_dir, protocol=pickle.HIGHEST_PROTOCOL):\n",
    "    pid_data = []\n",
    "    file_count = 0\n",
    "\n",
    "    for sample in tqdm(data):\n",
    "\n",
    "        pid_data.append(sample)\n",
    "\n",
    "        if len(pid_data) == 5000:\n",
    "            # once we hit the 5K mark, save to file\n",
    "            if not os.path.exists(pid_dir):\n",
    "                os.makedirs(pid_dir)\n",
    "\n",
    "            with open(f'{pid_dir}/pids_{file_count}.pkl', 'wb') as f:\n",
    "                pickle.dump(pid_data, f, protocol=protocol)\n",
    "\n",
    "            pid_data = []\n",
    "            file_count += 1\n",
    "\n",
    "            print(f\"Saved {5000 + (5000 * (file_count - 1))} patients\")\n",
    "\n",
    "    if (len(data) % 5000) != 0:\n",
    "\n",
    "        with open(f'{pid_dir}/pids_{file_count}.pkl', 'wb') as f:\n",
    "            pickle.dump(pid_data, f, protocol=protocol)\n",
    "\n",
    "        print(f\"Saved {5000 + (5000 * (file_count - 1)) + len(pid_data)} patients\")"
   ]
  },
  {
   "cell_type": "markdown",
   "metadata": {},
   "source": [
    "Create training and validation datasets:"
   ]
  },
  {
   "cell_type": "code",
   "execution_count": 52,
   "metadata": {},
   "outputs": [
    {
     "data": {
      "application/vnd.jupyter.widget-view+json": {
       "model_id": "70cc7819dbaf458ea2f5b6e17a1a4ef7",
       "version_major": 2,
       "version_minor": 0
      },
      "text/plain": [
       "  0%|          | 0/185928 [00:00<?, ?it/s]"
      ]
     },
     "metadata": {},
     "output_type": "display_data"
    },
    {
     "name": "stdout",
     "output_type": "stream",
     "text": [
      "Saved 5000 patients\n",
      "Saved 10000 patients\n",
      "Saved 15000 patients\n",
      "Saved 20000 patients\n",
      "Saved 25000 patients\n",
      "Saved 30000 patients\n",
      "Saved 35000 patients\n",
      "Saved 40000 patients\n",
      "Saved 45000 patients\n",
      "Saved 50000 patients\n",
      "Saved 55000 patients\n",
      "Saved 60000 patients\n",
      "Saved 65000 patients\n",
      "Saved 70000 patients\n",
      "Saved 75000 patients\n",
      "Saved 80000 patients\n",
      "Saved 85000 patients\n",
      "Saved 90000 patients\n",
      "Saved 95000 patients\n",
      "Saved 100000 patients\n",
      "Saved 105000 patients\n",
      "Saved 110000 patients\n",
      "Saved 115000 patients\n",
      "Saved 120000 patients\n",
      "Saved 125000 patients\n",
      "Saved 130000 patients\n",
      "Saved 135000 patients\n",
      "Saved 140000 patients\n",
      "Saved 145000 patients\n",
      "Saved 150000 patients\n",
      "Saved 155000 patients\n",
      "Saved 160000 patients\n",
      "Saved 165000 patients\n",
      "Saved 170000 patients\n",
      "Saved 175000 patients\n",
      "Saved 180000 patients\n",
      "Saved 185000 patients\n",
      "Saved 185928 patients\n"
     ]
    },
    {
     "data": {
      "application/vnd.jupyter.widget-view+json": {
       "model_id": "49fbfc9056584417a2e567c6f09051ad",
       "version_major": 2,
       "version_minor": 0
      },
      "text/plain": [
       "  0%|          | 0/10330 [00:00<?, ?it/s]"
      ]
     },
     "metadata": {},
     "output_type": "display_data"
    },
    {
     "name": "stdout",
     "output_type": "stream",
     "text": [
      "Saved 5000 patients\n",
      "Saved 10000 patients\n",
      "Saved 10330 patients\n"
     ]
    },
    {
     "data": {
      "application/vnd.jupyter.widget-view+json": {
       "model_id": "41ced0c2d92242a68a62180c8f766027",
       "version_major": 2,
       "version_minor": 0
      },
      "text/plain": [
       "  0%|          | 0/10329 [00:00<?, ?it/s]"
      ]
     },
     "metadata": {},
     "output_type": "display_data"
    },
    {
     "name": "stdout",
     "output_type": "stream",
     "text": [
      "Saved 5000 patients\n",
      "Saved 10000 patients\n",
      "Saved 10329 patients\n"
     ]
    },
    {
     "data": {
      "application/vnd.jupyter.widget-view+json": {
       "model_id": "6b0a92ecc7d447bb9be60b79b44f39cf",
       "version_major": 2,
       "version_minor": 0
      },
      "text/plain": [
       "  0%|          | 0/185928 [00:00<?, ?it/s]"
      ]
     },
     "metadata": {},
     "output_type": "display_data"
    },
    {
     "name": "stdout",
     "output_type": "stream",
     "text": [
      "Saved 5000 patients\n",
      "Saved 10000 patients\n",
      "Saved 15000 patients\n",
      "Saved 20000 patients\n",
      "Saved 25000 patients\n",
      "Saved 30000 patients\n",
      "Saved 35000 patients\n",
      "Saved 40000 patients\n",
      "Saved 45000 patients\n",
      "Saved 50000 patients\n",
      "Saved 55000 patients\n",
      "Saved 60000 patients\n",
      "Saved 65000 patients\n",
      "Saved 70000 patients\n",
      "Saved 75000 patients\n",
      "Saved 80000 patients\n",
      "Saved 85000 patients\n",
      "Saved 90000 patients\n",
      "Saved 95000 patients\n",
      "Saved 100000 patients\n",
      "Saved 105000 patients\n",
      "Saved 110000 patients\n",
      "Saved 115000 patients\n",
      "Saved 120000 patients\n",
      "Saved 125000 patients\n",
      "Saved 130000 patients\n",
      "Saved 135000 patients\n",
      "Saved 140000 patients\n",
      "Saved 145000 patients\n",
      "Saved 150000 patients\n",
      "Saved 155000 patients\n",
      "Saved 160000 patients\n",
      "Saved 165000 patients\n",
      "Saved 170000 patients\n",
      "Saved 175000 patients\n",
      "Saved 180000 patients\n",
      "Saved 185000 patients\n",
      "Saved 190000 patients\n",
      "Saved 195000 patients\n",
      "Saved 200000 patients\n",
      "Saved 205000 patients\n",
      "Saved 210000 patients\n",
      "Saved 215000 patients\n",
      "Saved 220000 patients\n",
      "Saved 225000 patients\n",
      "Saved 230000 patients\n",
      "Saved 235000 patients\n",
      "Saved 240000 patients\n",
      "Saved 245000 patients\n",
      "Saved 250000 patients\n",
      "Saved 255000 patients\n",
      "Saved 260000 patients\n",
      "Saved 265000 patients\n",
      "Saved 270000 patients\n",
      "Saved 275000 patients\n",
      "Saved 280000 patients\n",
      "Saved 285000 patients\n",
      "Saved 290000 patients\n",
      "Saved 295000 patients\n",
      "Saved 300000 patients\n",
      "Saved 305000 patients\n",
      "Saved 310000 patients\n",
      "Saved 315000 patients\n",
      "Saved 320000 patients\n",
      "Saved 325000 patients\n",
      "Saved 330000 patients\n",
      "Saved 335000 patients\n",
      "Saved 340000 patients\n",
      "Saved 345000 patients\n",
      "Saved 350000 patients\n",
      "Saved 355000 patients\n",
      "Saved 360000 patients\n",
      "Saved 365000 patients\n",
      "Saved 370000 patients\n",
      "Saved 371856 patients\n"
     ]
    }
   ],
   "source": [
    "# Pretrain\n",
    "create_pid_seq(data=train_mlm_pid_seq, pid_dir=\"./MIMIC-IV/PID_Sequences/Pretrain/train\")\n",
    "create_pid_seq(data=val_mlm_pid_seq, pid_dir=\"./MIMIC-IV/PID_Sequences/Pretrain/validation\")\n",
    "create_pid_seq(data=test_mlm_pid_seq, pid_dir=\"./MIMIC-IV/PID_Sequences/Pretrain/test\")\n",
    "create_text_seq(data=train_mlm_pid_seq, txt_dir=\"./MIMIC-IV/PID_Sequences/Pretrain/train/txt_files\")"
   ]
  },
  {
   "cell_type": "markdown",
   "metadata": {},
   "source": [
    "## Fine-tuning Datasets"
   ]
  },
  {
   "cell_type": "markdown",
   "metadata": {
    "id": "ByOu2VklTksB"
   },
   "source": [
    "### Sequence creation (Heart Failure Classification)"
   ]
  },
  {
   "cell_type": "code",
   "execution_count": 2,
   "metadata": {
    "id": "hkABVeM1xs2Z"
   },
   "outputs": [],
   "source": [
    "import os\n",
    "import pandas as pd\n",
    "try:\n",
    "    import cPickle as pickle\n",
    "except:\n",
    "    import pickle\n",
    "\n",
    "# Load data\n",
    "pid_data_directory = './MIMIC-IV/PID_DEMOGRAPHIC/pid_data_hosp.pkl'\n",
    "with open(pid_data_directory, 'rb') as f:\n",
    "    pid_data = pickle.load(f)"
   ]
  },
  {
   "cell_type": "code",
   "execution_count": 3,
   "metadata": {
    "colab": {
     "base_uri": "https://localhost:8080/"
    },
    "executionInfo": {
     "elapsed": 10,
     "status": "ok",
     "timestamp": 1627140403949,
     "user": {
      "displayName": "Diego Sáenz",
      "photoUrl": "https://lh3.googleusercontent.com/a-/AOh14Gjv_Ml1Ae2A5RhLeDd7Exj7G6ZVKlCYPrD9Rpeb7w=s64",
      "userId": "00681222444687719969"
     },
     "user_tz": -240
    },
    "id": "D375U_XHhshi",
    "outputId": "03e88ec5-3611-40bf-f934-66c9d270cbfd"
   },
   "outputs": [
    {
     "data": {
      "text/plain": [
       "256587"
      ]
     },
     "execution_count": 3,
     "metadata": {},
     "output_type": "execute_result"
    }
   ],
   "source": [
    "# Total number of patients\n",
    "pids = pid_data.subject_id.unique()\n",
    "len(pids)"
   ]
  },
  {
   "cell_type": "code",
   "execution_count": 8,
   "metadata": {},
   "outputs": [],
   "source": [
    "# Find recurrent patients\n",
    "recurrent = pid_data.groupby('subject_id')['hadm_id'].nunique().reset_index()\n",
    "recurrent = recurrent[recurrent.hadm_id > 1]\n",
    "recurrent = set(recurrent.subject_id)\n",
    "recurrent_pids = list(recurrent)"
   ]
  },
  {
   "cell_type": "code",
   "execution_count": 5,
   "metadata": {},
   "outputs": [],
   "source": [
    "import random\n",
    "from sklearn.model_selection import train_test_split\n",
    "\n",
    "random.seed(12345)\n",
    "\n",
    "pretrain_size = int(len(pids) - 50000)\n",
    "fine_size = int(50000)\n",
    "\n",
    "_, fine_pids = train_test_split(pids, test_size=fine_size / len(pids), random_state=12345)"
   ]
  },
  {
   "cell_type": "code",
   "execution_count": 11,
   "metadata": {},
   "outputs": [
    {
     "name": "stdout",
     "output_type": "stream",
     "text": [
      "Loading ICD code tables...\n",
      "  icd_code  icd_version                             long_title\n",
      "0     0010            9         Cholera due to vibrio cholerae\n",
      "1     0011            9  Cholera due to vibrio cholerae el tor\n",
      "2     0019            9                   Cholera, unspecified\n",
      "3     0020            9                          Typhoid fever\n",
      "4     0021            9                    Paratyphoid fever A\n",
      "Selecting ICD codes for classification...\n",
      "61\n"
     ]
    }
   ],
   "source": [
    "print('Loading ICD code tables...')\n",
    "\n",
    "data_icd_diag = pd.read_csv('./physionet.org/files/mimiciv/1.0/hosp/d_icd_diagnoses.csv')\n",
    "\n",
    "data_icd_diag.columns = data_icd_diag.columns.str.lower()\n",
    "\n",
    "print(data_icd_diag.head())\n",
    "\n",
    "print('Selecting ICD codes for classification...')\n",
    "heart_failure_set = set()\n",
    "\n",
    "############################ ICD9 ############################\n",
    "# ICD9 Heart Failure for 428 branch\n",
    "heart_failure_code = data_icd_diag[data_icd_diag.icd_version.isin([9]) \\\n",
    "                            & [True if re.search('^428', det) is not None else False for det in data_icd_diag.icd_code]]\n",
    "heart_failure_code = set('DIA' + heart_failure_code.icd_version.astype(str) + '_' + heart_failure_code.icd_code.astype(str))\n",
    "heart_failure_set = heart_failure_set.union(heart_failure_code)\n",
    "\n",
    "# ICD9 Heart Failure for title name\n",
    "heart_failure_code = data_icd_diag[data_icd_diag.icd_version.isin([9]) \\\n",
    "                            & [True if (re.search('heart failure', det) is not None) & (re.search('without heart failure', det) is None) else False for det in data_icd_diag.long_title]]\n",
    "heart_failure_code = set('DIA' + heart_failure_code.icd_version.astype(str) + '_' + heart_failure_code.icd_code.astype(str))\n",
    "heart_failure_set = heart_failure_set.union(heart_failure_code)\n",
    "\n",
    "# ############################ ICD10 ############################\n",
    "# ICD10 Heart Failure for I50 branch\n",
    "heart_failure_code = data_icd_diag[data_icd_diag.icd_version.isin([10]) \\\n",
    "                            & [True if re.search('^I50', det) is not None else False for det in data_icd_diag.icd_code]]\n",
    "heart_failure_code = set('DIA' + heart_failure_code.icd_version.astype(str) + '_' + heart_failure_code.icd_code.astype(str))\n",
    "heart_failure_set = heart_failure_set.union(heart_failure_code)\n",
    "\n",
    "# ICD10 Heart Failure for title name\n",
    "heart_failure_code = data_icd_diag[data_icd_diag.icd_version.isin([10]) \\\n",
    "                            & [True if (re.search('heart failure', det) is not None) & (re.search('without heart failure', det) is None) else False for det in data_icd_diag.long_title]]\n",
    "heart_failure_code = set('DIA' + heart_failure_code.icd_version.astype(str) + '_' + heart_failure_code.icd_code.astype(str))\n",
    "heart_failure_set = heart_failure_set.union(heart_failure_code)\n",
    "\n",
    "print(len(heart_failure_set))"
   ]
  },
  {
   "cell_type": "markdown",
   "metadata": {
    "id": "lbL7oc5PqE5e"
   },
   "source": [
    "It is too slow to do this loop, so we do parallel processing:"
   ]
  },
  {
   "cell_type": "code",
   "execution_count": 12,
   "metadata": {
    "colab": {
     "base_uri": "https://localhost:8080/"
    },
    "executionInfo": {
     "elapsed": 1137870,
     "status": "ok",
     "timestamp": 1626608232987,
     "user": {
      "displayName": "Diego Sáenz",
      "photoUrl": "https://lh3.googleusercontent.com/a-/AOh14Gjv_Ml1Ae2A5RhLeDd7Exj7G6ZVKlCYPrD9Rpeb7w=s64",
      "userId": "00681222444687719969"
     },
     "user_tz": -240
    },
    "id": "3xTeJGlhknKx",
    "outputId": "9d34f76d-e113-4ca0-e695-1419baf82edd"
   },
   "outputs": [
    {
     "name": "stdout",
     "output_type": "stream",
     "text": [
      "Building patients sequences...\n",
      "Building finetune patients sequences...\n",
      "CPU times: user 1.15 s, sys: 3.88 s, total: 5.03 s\n",
      "Wall time: 53.5 s\n"
     ]
    }
   ],
   "source": [
    "%%time\n",
    "print('Building patients sequences...')\n",
    "import random\n",
    "import multiprocessing\n",
    "\n",
    "def pid_seq_bart_heart_failure(pid):\n",
    "    group = pid_data[pid_data['subject_id'].isin([pid])]\n",
    "    full_seq = []\n",
    "    diag_seq = []\n",
    "    had_heart_failure = 0\n",
    "    num_visits = 0\n",
    "\n",
    "    regexp_dia9 = re.compile(r'DIA9_')\n",
    "    regexp_dia10 = re.compile(r'DIA10_')\n",
    "\n",
    "    patient_demographic = \" \" + group['anchor_age'].unique()[0] + \" \" + group['marital_status'].unique()[0] + \" \" + group['ethnicity'].unique()[0] + \" \" + group['gender'].unique()[0]\n",
    "    patient_demographic = re.sub(' +', ' ', patient_demographic)\n",
    "\n",
    "    for _, subgroup in group.sort_values(['dischtime','seq_num'], \n",
    "                                            ascending=True).groupby('dischtime', sort=False):\n",
    "\n",
    "        num_visits += 1\n",
    "        code_list = np.array(subgroup['med_code'].drop_duplicates()).tolist()\n",
    "\n",
    "        if heart_failure_set.intersection(set(code_list)) != set():\n",
    "            had_heart_failure = 1\n",
    "            break\n",
    "\n",
    "        if len(code_list) > 1:\n",
    "            code_lm = ''\n",
    "            diag_code = ''\n",
    "            for code in code_list:\n",
    "                code_lm += code + ' '\n",
    "                if regexp_dia9.search(code) or regexp_dia10.search(code):\n",
    "                    diag_code += code + ' '\n",
    "        else:\n",
    "            code_lm = code_list[0] + ' '\n",
    "            diag_code = ''\n",
    "            # find if visit has a diagnosis related to heart failure\n",
    "            if regexp_dia9.search(code_list[0]) or regexp_dia10.search(code_list[0]):\n",
    "                diag_code += code_list[0] + ' '\n",
    "            else:\n",
    "                diag_code += ' '\n",
    "\n",
    "        code_lm = code_lm[:-1]\n",
    "        diag_code = diag_code[:-1]\n",
    "        full_seq.append(code_lm)\n",
    "        diag_seq.append(diag_code)\n",
    "    \n",
    "    visits = ' & '.join(full_seq)\n",
    "    input_visits = ' & '.join(full_seq)\n",
    "    output_text = ' & '.join(diag_seq)\n",
    "\n",
    "    input_text = \"PID:\" + patient_demographic + \" $ \" + input_visits\n",
    "\n",
    "    return {'id': pid, 'demographic_info': patient_demographic, 'original_text': visits, 'input_text': input_text, 'output_text': output_text, 'had_heart_failure': had_heart_failure}\n",
    "\n",
    "# Finetune\n",
    "with multiprocessing.Pool(processes=80) as pool_obj:\n",
    "    print('Building finetune patients sequences...')\n",
    "    fine_pid_seq_heart_failure = pool_obj.map(pid_seq_bart_heart_failure, fine_pids)"
   ]
  },
  {
   "cell_type": "code",
   "execution_count": 18,
   "metadata": {},
   "outputs": [
    {
     "data": {
      "text/plain": [
       "{'id': 12524759,\n",
       " 'demographic_info': ' 45 years old single hispanic/latino male',\n",
       " 'original_text': 'DIA9_78650 PRO9_8952 DIA9_41400 PRO9_8744 PRO9_8938 PRO9_3899 1 Hematology Blood abnormal {Neutrophils} 1 Hematology Blood abnormal {Red Blood Cells} 1 Hematology Blood abnormal {MCH} 1 Chemistry Blood abnormal {Glucose} 1 Chemistry Blood abnormal {Creatine Kinase (CK)} & DIA9_5921 PRO9_560 DIA9_30390 PRO9_598 DIA9_2859 PRO9_5631 DIA9_4019 PRO9_5732 DIA9_2720 DIA9_30560 1 Hematology Blood abnormal {Hematocrit} 1 Hematology Blood abnormal {Red Blood Cells} 1 Hematology Blood abnormal {Hemoglobin} 1 Hematology Blood abnormal {MCH} 1 Hematology Blood abnormal {Platelet Count} 1 Hematology Blood abnormal {MCV} & DIA9_95901 DIA9_9100 DIA9_E8120 DIA9_30500 DIA9_4019 & DIA9_5920 DIA9_591 DIA9_4019 DIA9_7881 DIA9_2720 DIA9_30500 DIA9_V1279 DIA9_V1749',\n",
       " 'input_text': 'PID: 45 years old single hispanic/latino male $ DIA9_78650 PRO9_8952 DIA9_41400 PRO9_8744 PRO9_8938 PRO9_3899 1 Hematology Blood abnormal {Neutrophils} 1 Hematology Blood abnormal {Red Blood Cells} 1 Hematology Blood abnormal {MCH} 1 Chemistry Blood abnormal {Glucose} 1 Chemistry Blood abnormal {Creatine Kinase (CK)} & DIA9_5921 PRO9_560 DIA9_30390 PRO9_598 DIA9_2859 PRO9_5631 DIA9_4019 PRO9_5732 DIA9_2720 DIA9_30560 1 Hematology Blood abnormal {Hematocrit} 1 Hematology Blood abnormal {Red Blood Cells} 1 Hematology Blood abnormal {Hemoglobin} 1 Hematology Blood abnormal {MCH} 1 Hematology Blood abnormal {Platelet Count} 1 Hematology Blood abnormal {MCV} & DIA9_95901 DIA9_9100 DIA9_E8120 DIA9_30500 DIA9_4019 & DIA9_5920 DIA9_591 DIA9_4019 DIA9_7881 DIA9_2720 DIA9_30500 DIA9_V1279 DIA9_V1749',\n",
       " 'output_text': 'DIA9_78650 DIA9_41400 & DIA9_5921 DIA9_30390 DIA9_2859 DIA9_4019 DIA9_2720 DIA9_30560 & DIA9_95901 DIA9_9100 DIA9_E8120 DIA9_30500 DIA9_4019 & DIA9_5920 DIA9_591 DIA9_4019 DIA9_7881 DIA9_2720 DIA9_30500 DIA9_V1279 DIA9_V1749',\n",
       " 'had_heart_failure': 0}"
      ]
     },
     "execution_count": 18,
     "metadata": {},
     "output_type": "execute_result"
    }
   ],
   "source": [
    "fine_pid_seq_heart_failure[0]"
   ]
  },
  {
   "cell_type": "code",
   "execution_count": 19,
   "metadata": {
    "id": "3S9l-6s13Jg7"
   },
   "outputs": [],
   "source": [
    "# Write out the data\n",
    "out_directory = './MIMIC-IV/PID_Sequences'\n",
    "\n",
    "if not os.path.exists(out_directory):\n",
    "    os.makedirs(out_directory)\n",
    "\n",
    "with open(out_directory + '/fine_pid_seq_heart_failure.pkl', 'wb') as f:\n",
    "    pickle.dump(fine_pid_seq_heart_failure, f, protocol=pickle.HIGHEST_PROTOCOL)"
   ]
  },
  {
   "cell_type": "code",
   "execution_count": 20,
   "metadata": {
    "id": "JymQwFpv3yvM"
   },
   "outputs": [],
   "source": [
    "# Load Patient Sequences\n",
    "out_directory = './MIMIC-IV/PID_Sequences'\n",
    "\n",
    "with open(out_directory + '/fine_pid_seq_heart_failure.pkl', 'rb') as f:\n",
    "    fine_pid_seq_heart_failure = pickle.load(f)"
   ]
  },
  {
   "cell_type": "code",
   "execution_count": 21,
   "metadata": {
    "colab": {
     "base_uri": "https://localhost:8080/"
    },
    "executionInfo": {
     "elapsed": 1476,
     "status": "ok",
     "timestamp": 1627140407666,
     "user": {
      "displayName": "Diego Sáenz",
      "photoUrl": "https://lh3.googleusercontent.com/a-/AOh14Gjv_Ml1Ae2A5RhLeDd7Exj7G6ZVKlCYPrD9Rpeb7w=s64",
      "userId": "00681222444687719969"
     },
     "user_tz": -240
    },
    "id": "wiVMCXrK5VRU",
    "outputId": "7d8f7735-577b-48ec-a1a7-2c2e950e22cf"
   },
   "outputs": [
    {
     "name": "stdout",
     "output_type": "stream",
     "text": [
      "Splitting pretraining and fine-tuning datsets...\n"
     ]
    }
   ],
   "source": [
    "print('Splitting pretraining and fine-tuning datsets...')\n",
    "from sklearn.model_selection import train_test_split\n",
    "\n",
    "# Fine-tune\n",
    "fine_size = len(fine_pid_seq_heart_failure)\n",
    "\n",
    "train_fine_pid_seq_heart_failure, val_test_fine_pid_seq_heart_failure = train_test_split(fine_pid_seq_heart_failure, test_size=0.2, random_state=12345)\n",
    "val_fine_pid_seq_heart_failure, test_fine_pid_seq_heart_failure = train_test_split(val_test_fine_pid_seq_heart_failure, test_size=0.5, random_state=12345)"
   ]
  },
  {
   "cell_type": "code",
   "execution_count": 22,
   "metadata": {
    "colab": {
     "base_uri": "https://localhost:8080/"
    },
    "executionInfo": {
     "elapsed": 19,
     "status": "ok",
     "timestamp": 1627140407671,
     "user": {
      "displayName": "Diego Sáenz",
      "photoUrl": "https://lh3.googleusercontent.com/a-/AOh14Gjv_Ml1Ae2A5RhLeDd7Exj7G6ZVKlCYPrD9Rpeb7w=s64",
      "userId": "00681222444687719969"
     },
     "user_tz": -240
    },
    "id": "cpXUKe2H6i2J",
    "outputId": "8370a750-6fc0-4259-84d5-38c2244bfb76"
   },
   "outputs": [
    {
     "name": "stdout",
     "output_type": "stream",
     "text": [
      "Fine-tune datasets:\n",
      "Training size: 40000 (80.0%)\n",
      "Validation size: 5000 (10.0%)\n",
      "Testing size: 5000 (10.0%)\n",
      "Testing size: 5000 (10.0%)\n"
     ]
    }
   ],
   "source": [
    "print('Fine-tune datasets:')\n",
    "print(f'Training size: {len(train_fine_pid_seq_heart_failure)} ({round(len(train_fine_pid_seq_heart_failure) / len(fine_pid_seq_heart_failure), 2) * 100}%)')\n",
    "print(f'Validation size: {len(val_fine_pid_seq_heart_failure)} ({round(len(val_fine_pid_seq_heart_failure) / len(fine_pid_seq_heart_failure), 2) * 100}%)')\n",
    "print(f'Testing size: {len(test_fine_pid_seq_heart_failure)} ({round(len(test_fine_pid_seq_heart_failure) / len(fine_pid_seq_heart_failure), 2) * 100}%)')"
   ]
  },
  {
   "cell_type": "code",
   "execution_count": 24,
   "metadata": {},
   "outputs": [],
   "source": [
    "import pickle\n",
    "from tqdm.auto import tqdm\n",
    "\n",
    "def create_text_seq(data, txt_dir):\n",
    "    text_data = []\n",
    "    file_count = 0\n",
    "\n",
    "    for sample in tqdm(data):\n",
    "        text_data.append(sample['demographic_info'])\n",
    "        text_data.append(sample['original_text'])\n",
    "        if len(text_data) == 5000:\n",
    "            # once we hit the 5K mark, save to file\n",
    "            if not os.path.exists(txt_dir):\n",
    "                os.makedirs(txt_dir)\n",
    "            with open(f'{txt_dir}/text_{file_count}.txt', 'w', encoding='utf-8') as fp:\n",
    "                fp.write('\\n'.join(text_data))\n",
    "            text_data = []\n",
    "            file_count += 1\n",
    "            print(f\"Saved {5000 + (5000 * (file_count - 1))} patients\")\n",
    "\n",
    "    if (len(data) % 5000) != 0:\n",
    "        with open(f'{txt_dir}/text_{file_count}.txt', 'w', encoding='utf-8') as fp:\n",
    "            fp.write('\\n'.join(text_data))\n",
    "        print(f\"Saved {5000 + (5000 * (file_count - 1)) + len(text_data)} patients\")\n",
    "\n",
    "def create_pid_seq(data, pid_dir, protocol=pickle.HIGHEST_PROTOCOL):\n",
    "    pid_data = []\n",
    "    file_count = 0\n",
    "\n",
    "    for sample in tqdm(data):\n",
    "\n",
    "        pid_data.append(sample)\n",
    "\n",
    "        if len(pid_data) == 5000:\n",
    "            # once we hit the 5K mark, save to file\n",
    "            if not os.path.exists(pid_dir):\n",
    "                os.makedirs(pid_dir)\n",
    "\n",
    "            with open(f'{pid_dir}/pids_{file_count}.pkl', 'wb') as f:\n",
    "                pickle.dump(pid_data, f, protocol=protocol)\n",
    "\n",
    "            pid_data = []\n",
    "            file_count += 1\n",
    "\n",
    "            print(f\"Saved {5000 + (5000 * (file_count - 1))} patients\")\n",
    "\n",
    "    if (len(data) % 5000) != 0:\n",
    "\n",
    "        with open(f'{pid_dir}/pids_{file_count}.pkl', 'wb') as f:\n",
    "            pickle.dump(pid_data, f, protocol=protocol)\n",
    "\n",
    "        print(f\"Saved {5000 + (5000 * (file_count - 1)) + len(pid_data)} patients\")"
   ]
  },
  {
   "cell_type": "markdown",
   "metadata": {},
   "source": [
    "Create training and validation datasets:"
   ]
  },
  {
   "cell_type": "code",
   "execution_count": 25,
   "metadata": {},
   "outputs": [
    {
     "data": {
      "application/vnd.jupyter.widget-view+json": {
       "model_id": "ead59e6b5ae04c67a0ca1ac20c930396",
       "version_major": 2,
       "version_minor": 0
      },
      "text/plain": [
       "  0%|          | 0/40000 [00:00<?, ?it/s]"
      ]
     },
     "metadata": {},
     "output_type": "display_data"
    },
    {
     "name": "stdout",
     "output_type": "stream",
     "text": [
      "Saved 5000 patients\n",
      "Saved 10000 patients\n",
      "Saved 15000 patients\n",
      "Saved 20000 patients\n",
      "Saved 25000 patients\n",
      "Saved 30000 patients\n",
      "Saved 35000 patients\n",
      "Saved 40000 patients\n"
     ]
    },
    {
     "data": {
      "application/vnd.jupyter.widget-view+json": {
       "model_id": "d186fc68aa334c7f9dc37cf77b87e4d4",
       "version_major": 2,
       "version_minor": 0
      },
      "text/plain": [
       "  0%|          | 0/5000 [00:00<?, ?it/s]"
      ]
     },
     "metadata": {},
     "output_type": "display_data"
    },
    {
     "name": "stdout",
     "output_type": "stream",
     "text": [
      "Saved 5000 patients\n"
     ]
    },
    {
     "data": {
      "application/vnd.jupyter.widget-view+json": {
       "model_id": "bada760243c54a32b4085f7f2e15be70",
       "version_major": 2,
       "version_minor": 0
      },
      "text/plain": [
       "  0%|          | 0/5000 [00:00<?, ?it/s]"
      ]
     },
     "metadata": {},
     "output_type": "display_data"
    },
    {
     "name": "stdout",
     "output_type": "stream",
     "text": [
      "Saved 5000 patients\n"
     ]
    }
   ],
   "source": [
    "# Finetune\n",
    "create_pid_seq(data=train_fine_pid_seq_heart_failure, pid_dir=\"./MIMIC-IV/PID_Sequences/Finetune_heart_failure/train\")\n",
    "create_pid_seq(data=val_fine_pid_seq_heart_failure, pid_dir=\"./MIMIC-IV/PID_Sequences/Finetune_heart_failure/validation\")\n",
    "create_pid_seq(data=test_fine_pid_seq_heart_failure, pid_dir=\"./MIMIC-IV/PID_Sequences/Finetune_heart_failure/test\")"
   ]
  },
  {
   "cell_type": "markdown",
   "metadata": {},
   "source": [
    "We observe the class distribution in the training dataset:"
   ]
  },
  {
   "cell_type": "code",
   "execution_count": 26,
   "metadata": {},
   "outputs": [
    {
     "name": "stdout",
     "output_type": "stream",
     "text": [
      "Positive class percentage: 0.1992\n",
      "Class weights: [0.62437562 2.51004016]\n"
     ]
    },
    {
     "data": {
      "image/png": "[encoded data removed]",
      "text/plain": [
       "<Figure size 432x288 with 1 Axes>"
      ]
     },
     "metadata": {
      "needs_background": "light"
     },
     "output_type": "display_data"
    }
   ],
   "source": [
    "import matplotlib.pyplot as plt\n",
    "from sklearn.utils import class_weight\n",
    "\n",
    "train_fine_pid_seq_heart_failure_targets = [obs['had_heart_failure'] for obs in train_fine_pid_seq_heart_failure]\n",
    "\n",
    "classes = [val for val in range(2)]\n",
    "class_weights = class_weight.compute_class_weight(class_weight='balanced', classes=classes, y=train_fine_pid_seq_heart_failure_targets)\n",
    "\n",
    "plt.hist(train_fine_pid_seq_heart_failure_targets)\n",
    "print(f\"Positive class percentage: {sum(train_fine_pid_seq_heart_failure_targets) / len(train_fine_pid_seq_heart_failure_targets)}\")\n",
    "print(f\"Class weights: {class_weights}\")\n",
    "\n",
    "out_directory = \"./MIMIC-IV/PID_Sequences/Finetune_heart_failure\"\n",
    "with open(out_directory + '/class_weights.pkl', 'wb') as f:\n",
    "    pickle.dump(class_weights, f, protocol=pickle.HIGHEST_PROTOCOL)"
   ]
  },
  {
   "cell_type": "markdown",
   "metadata": {
    "id": "ByOu2VklTksB"
   },
   "source": [
    "### Sequence creation (Three Day Hospitalization Stay Classification)"
   ]
  },
  {
   "cell_type": "code",
   "execution_count": 21,
   "metadata": {
    "id": "hkABVeM1xs2Z"
   },
   "outputs": [],
   "source": [
    "import os\n",
    "import pandas as pd\n",
    "try:\n",
    "    import cPickle as pickle\n",
    "except:\n",
    "    import pickle\n",
    "\n",
    "# Load data\n",
    "pid_data_directory = './MIMIC-IV/PID_DEMOGRAPHIC/pid_data_hosp.pkl'\n",
    "with open(pid_data_directory, 'rb') as f:     # name of hospitalization data is 'pid_data_hosp.pkl'\n",
    "    pid_data = pickle.load(f)"
   ]
  },
  {
   "cell_type": "code",
   "execution_count": 22,
   "metadata": {
    "colab": {
     "base_uri": "https://localhost:8080/"
    },
    "executionInfo": {
     "elapsed": 10,
     "status": "ok",
     "timestamp": 1627140403949,
     "user": {
      "displayName": "Diego Sáenz",
      "photoUrl": "https://lh3.googleusercontent.com/a-/AOh14Gjv_Ml1Ae2A5RhLeDd7Exj7G6ZVKlCYPrD9Rpeb7w=s64",
      "userId": "00681222444687719969"
     },
     "user_tz": -240
    },
    "id": "D375U_XHhshi",
    "outputId": "03e88ec5-3611-40bf-f934-66c9d270cbfd"
   },
   "outputs": [
    {
     "data": {
      "text/plain": [
       "256587"
      ]
     },
     "execution_count": 22,
     "metadata": {},
     "output_type": "execute_result"
    }
   ],
   "source": [
    "# Total number of patients\n",
    "pids = pid_data.subject_id.unique()\n",
    "len(pids)"
   ]
  },
  {
   "cell_type": "code",
   "execution_count": 23,
   "metadata": {},
   "outputs": [],
   "source": [
    "# Find recurrent patients\n",
    "recurrent = pid_data.groupby('subject_id')['hadm_id'].nunique().reset_index()\n",
    "recurrent = recurrent[recurrent.hadm_id > 1]\n",
    "recurrent = set(recurrent.subject_id)"
   ]
  },
  {
   "cell_type": "code",
   "execution_count": 24,
   "metadata": {},
   "outputs": [],
   "source": [
    "import random\n",
    "from sklearn.model_selection import train_test_split\n",
    "\n",
    "random.seed(12345)\n",
    "\n",
    "pretrain_size = int(len(pids) - 50000)\n",
    "fine_size = int(50000)\n",
    "\n",
    "_, fine_pids = train_test_split(pids, test_size=fine_size / len(pids), random_state=12345)"
   ]
  },
  {
   "cell_type": "markdown",
   "metadata": {
    "id": "lbL7oc5PqE5e"
   },
   "source": [
    "It is too slow to do this loop, so we do parallel processing:"
   ]
  },
  {
   "cell_type": "code",
   "execution_count": 26,
   "metadata": {
    "colab": {
     "base_uri": "https://localhost:8080/"
    },
    "executionInfo": {
     "elapsed": 1137870,
     "status": "ok",
     "timestamp": 1626608232987,
     "user": {
      "displayName": "Diego Sáenz",
      "photoUrl": "https://lh3.googleusercontent.com/a-/AOh14Gjv_Ml1Ae2A5RhLeDd7Exj7G6ZVKlCYPrD9Rpeb7w=s64",
      "userId": "00681222444687719969"
     },
     "user_tz": -240
    },
    "id": "3xTeJGlhknKx",
    "outputId": "9d34f76d-e113-4ca0-e695-1419baf82edd"
   },
   "outputs": [
    {
     "name": "stdout",
     "output_type": "stream",
     "text": [
      "Building patients sequences...\n",
      "Building finetune patients sequences...\n",
      "CPU times: user 1.88 s, sys: 5.87 s, total: 7.76 s\n",
      "Wall time: 1min 32s\n"
     ]
    }
   ],
   "source": [
    "%%time\n",
    "print('Building patients sequences...')\n",
    "import random\n",
    "import multiprocessing\n",
    "\n",
    "def pid_seq_bart_finetune_hosp(pid):\n",
    "    group = pid_data[pid_data['subject_id'].isin([pid])]\n",
    "    full_seq = []\n",
    "    diag_seq = []\n",
    "    hospitalized_three = 0\n",
    "    num_visits = 0\n",
    "\n",
    "    regexp_dia9 = re.compile(r'DIA9_')\n",
    "    regexp_dia10 = re.compile(r'DIA10_')\n",
    "\n",
    "    patient_demographic = \" \" + group['anchor_age'].unique()[0] + \" \" + group['marital_status'].unique()[0] + \" \" + group['ethnicity'].unique()[0] + \" \" + group['gender'].unique()[0]\n",
    "    patient_demographic = re.sub(' +', ' ', patient_demographic)\n",
    "\n",
    "    for time, subgroup in group.sort_values(['dischtime','seq_num'], \n",
    "                                            ascending=True).groupby('dischtime', sort=False):\n",
    "        dischtime = min(subgroup.dischtime)\n",
    "        admittime = min(subgroup.admittime)\n",
    "        delta = dischtime - admittime\n",
    "\n",
    "        if delta.days > 3:\n",
    "            hospitalized_three = 1\n",
    "            break\n",
    "\n",
    "        num_visits += 1\n",
    "        code_list = np.array(subgroup['med_code'].drop_duplicates()).tolist()\n",
    "\n",
    "        if len(code_list) > 1:\n",
    "            code_lm = ''\n",
    "            diag_code = ''\n",
    "            for code in code_list:\n",
    "                code_lm += code + ' '\n",
    "                if regexp_dia9.search(code) or regexp_dia10.search(code):\n",
    "                    diag_code += code + ' '\n",
    "        else:\n",
    "            code_lm = code_list[0] + ' '\n",
    "            diag_code = ''\n",
    "            if regexp_dia9.search(code_list[0]) or regexp_dia10.search(code_list[0]):\n",
    "                diag_code += code_list[0] + ' '\n",
    "            else:\n",
    "                diag_code += ' '\n",
    "\n",
    "        code_lm = code_lm[:-1]\n",
    "        diag_code = diag_code[:-1]\n",
    "        full_seq.append(code_lm)\n",
    "        diag_seq.append(diag_code)\n",
    "    \n",
    "    visits = ' & '.join(full_seq)\n",
    "    input_visits = ' & '.join(full_seq)\n",
    "    output_text = ' & '.join(diag_seq)\n",
    "\n",
    "    input_text = \"PID:\" + patient_demographic + \" $ \" + input_visits\n",
    "\n",
    "    return {\n",
    "        'id': pid, 'demographic_info': patient_demographic, 'original_text': visits, \n",
    "        'input_text': input_text, 'output_text': output_text, 'hospitalized_three': hospitalized_three\n",
    "        }\n",
    "\n",
    "# Finetune\n",
    "with multiprocessing.Pool(processes=80) as pool_obj:\n",
    "    print('Building finetune patients sequences...')\n",
    "    fine_pid_seq_hospitalized = pool_obj.map(pid_seq_bart_finetune_hosp, fine_pids)"
   ]
  },
  {
   "cell_type": "code",
   "execution_count": 28,
   "metadata": {},
   "outputs": [
    {
     "data": {
      "text/plain": [
       "{'id': 15373225,\n",
       " 'demographic_info': ' 29 years old married white female',\n",
       " 'original_text': 'DIA10_F339 DIA10_E538 DIA10_Z803 DIA10_Z833 DIA10_Z801 DIA10_Z8249',\n",
       " 'input_text': 'PID: 29 years old married white female $ DIA10_F339 DIA10_E538 DIA10_Z803 DIA10_Z833 DIA10_Z801 DIA10_Z8249',\n",
       " 'output_text': 'DIA10_F339 DIA10_E538 DIA10_Z803 DIA10_Z833 DIA10_Z801 DIA10_Z8249',\n",
       " 'hospitalized': 1}"
      ]
     },
     "execution_count": 28,
     "metadata": {},
     "output_type": "execute_result"
    }
   ],
   "source": [
    "fine_pid_seq_hospitalized[0]"
   ]
  },
  {
   "cell_type": "code",
   "execution_count": 29,
   "metadata": {
    "id": "3S9l-6s13Jg7"
   },
   "outputs": [],
   "source": [
    "# Write out the data\n",
    "out_directory = './MIMIC-IV/PID_DEMOGRAPHIC_Sequences'\n",
    "\n",
    "if not os.path.exists(out_directory):\n",
    "    os.makedirs(out_directory)\n",
    "\n",
    "with open(out_directory + '/fine_pid_seq_hospitalized.pkl', 'wb') as f:\n",
    "    pickle.dump(fine_pid_seq_hospitalized, f, protocol=pickle.HIGHEST_PROTOCOL)"
   ]
  },
  {
   "cell_type": "code",
   "execution_count": 30,
   "metadata": {
    "id": "JymQwFpv3yvM"
   },
   "outputs": [],
   "source": [
    "# Load Patient Sequences\n",
    "out_directory = './MIMIC-IV/PID_DEMOGRAPHIC_Sequences'\n",
    "\n",
    "with open(out_directory + '/fine_pid_seq_hospitalized.pkl', 'rb') as f:\n",
    "    fine_pid_seq_hospitalized = pickle.load(f)"
   ]
  },
  {
   "cell_type": "code",
   "execution_count": 31,
   "metadata": {
    "colab": {
     "base_uri": "https://localhost:8080/"
    },
    "executionInfo": {
     "elapsed": 1476,
     "status": "ok",
     "timestamp": 1627140407666,
     "user": {
      "displayName": "Diego Sáenz",
      "photoUrl": "https://lh3.googleusercontent.com/a-/AOh14Gjv_Ml1Ae2A5RhLeDd7Exj7G6ZVKlCYPrD9Rpeb7w=s64",
      "userId": "00681222444687719969"
     },
     "user_tz": -240
    },
    "id": "wiVMCXrK5VRU",
    "outputId": "7d8f7735-577b-48ec-a1a7-2c2e950e22cf"
   },
   "outputs": [
    {
     "name": "stdout",
     "output_type": "stream",
     "text": [
      "Splitting pretraining and fine-tuning datsets...\n"
     ]
    }
   ],
   "source": [
    "print('Splitting pretraining and fine-tuning datsets...')\n",
    "from sklearn.model_selection import train_test_split\n",
    "\n",
    "# Fine-tune\n",
    "fine_size = len(fine_pid_seq_hospitalized)\n",
    "\n",
    "train_fine_pid_seq_hospitalized, val_test_fine_pid_seq_hospitalized = train_test_split(fine_pid_seq_hospitalized, test_size=0.2, random_state=12345)\n",
    "val_fine_pid_seq_hospitalized, test_fine_pid_seq_hospitalized = train_test_split(val_test_fine_pid_seq_hospitalized, test_size=0.5, random_state=12345)"
   ]
  },
  {
   "cell_type": "code",
   "execution_count": 33,
   "metadata": {
    "colab": {
     "base_uri": "https://localhost:8080/"
    },
    "executionInfo": {
     "elapsed": 19,
     "status": "ok",
     "timestamp": 1627140407671,
     "user": {
      "displayName": "Diego Sáenz",
      "photoUrl": "https://lh3.googleusercontent.com/a-/AOh14Gjv_Ml1Ae2A5RhLeDd7Exj7G6ZVKlCYPrD9Rpeb7w=s64",
      "userId": "00681222444687719969"
     },
     "user_tz": -240
    },
    "id": "cpXUKe2H6i2J",
    "outputId": "8370a750-6fc0-4259-84d5-38c2244bfb76"
   },
   "outputs": [
    {
     "name": "stdout",
     "output_type": "stream",
     "text": [
      "Fine-tune datasets:\n",
      "Training size: 40000 (80.0%)\n",
      "Validation size: 5000 (10.0%)\n",
      "Testing size: 5000 (10.0%)\n"
     ]
    }
   ],
   "source": [
    "print('Fine-tune datasets:')\n",
    "print(f'Training size: {len(train_fine_pid_seq_hospitalized)} ({round(len(train_fine_pid_seq_hospitalized) / len(fine_pid_seq_hospitalized), 2) * 100}%)')\n",
    "print(f'Validation size: {len(val_fine_pid_seq_hospitalized)} ({round(len(val_fine_pid_seq_hospitalized) / len(fine_pid_seq_hospitalized), 2) * 100}%)')\n",
    "print(f'Testing size: {len(test_fine_pid_seq_hospitalized)} ({round(len(test_fine_pid_seq_hospitalized) / len(fine_pid_seq_hospitalized), 2) * 100}%)')"
   ]
  },
  {
   "cell_type": "code",
   "execution_count": 34,
   "metadata": {},
   "outputs": [],
   "source": [
    "import pickle\n",
    "from tqdm.auto import tqdm\n",
    "\n",
    "def create_text_seq(data, txt_dir):\n",
    "    text_data = []\n",
    "    file_count = 0\n",
    "\n",
    "    for sample in tqdm(data):\n",
    "        text_data.append(sample['demographic_info'])\n",
    "        text_data.append(sample['original_text'])\n",
    "        if len(text_data) == 5000:\n",
    "            # once we hit the 5K mark, save to file\n",
    "            if not os.path.exists(txt_dir):\n",
    "                os.makedirs(txt_dir)\n",
    "            with open(f'{txt_dir}/text_{file_count}.txt', 'w', encoding='utf-8') as fp:\n",
    "                fp.write('\\n'.join(text_data))\n",
    "            text_data = []\n",
    "            file_count += 1\n",
    "            print(f\"Saved {5000 + (5000 * (file_count - 1))} patients\")\n",
    "\n",
    "    if (len(data) % 5000) != 0:\n",
    "        with open(f'{txt_dir}/text_{file_count}.txt', 'w', encoding='utf-8') as fp:\n",
    "            fp.write('\\n'.join(text_data))\n",
    "        print(f\"Saved {5000 + (5000 * (file_count - 1)) + len(text_data)} patients\")\n",
    "\n",
    "def create_pid_seq(data, pid_dir, protocol=pickle.HIGHEST_PROTOCOL):\n",
    "    pid_data = []\n",
    "    file_count = 0\n",
    "\n",
    "    for sample in tqdm(data):\n",
    "\n",
    "        pid_data.append(sample)\n",
    "\n",
    "        if len(pid_data) == 5000:\n",
    "            # once we hit the 5K mark, save to file\n",
    "            if not os.path.exists(pid_dir):\n",
    "                os.makedirs(pid_dir)\n",
    "\n",
    "            with open(f'{pid_dir}/pids_{file_count}.pkl', 'wb') as f:\n",
    "                pickle.dump(pid_data, f, protocol=protocol)\n",
    "\n",
    "            pid_data = []\n",
    "            file_count += 1\n",
    "\n",
    "            print(f\"Saved {5000 + (5000 * (file_count - 1))} patients\")\n",
    "\n",
    "    if (len(data) % 5000) != 0:\n",
    "\n",
    "        with open(f'{pid_dir}/pids_{file_count}.pkl', 'wb') as f:\n",
    "            pickle.dump(pid_data, f, protocol=protocol)\n",
    "\n",
    "        print(f\"Saved {5000 + (5000 * (file_count - 1)) + len(pid_data)} patients\")"
   ]
  },
  {
   "cell_type": "markdown",
   "metadata": {},
   "source": [
    "Create training and validation datasets:"
   ]
  },
  {
   "cell_type": "code",
   "execution_count": 37,
   "metadata": {},
   "outputs": [
    {
     "data": {
      "application/vnd.jupyter.widget-view+json": {
       "model_id": "7c1d753dd7404521b3b3672741b82f21",
       "version_major": 2,
       "version_minor": 0
      },
      "text/plain": [
       "  0%|          | 0/40000 [00:00<?, ?it/s]"
      ]
     },
     "metadata": {},
     "output_type": "display_data"
    },
    {
     "name": "stdout",
     "output_type": "stream",
     "text": [
      "Saved 5000 patients\n",
      "Saved 10000 patients\n",
      "Saved 15000 patients\n",
      "Saved 20000 patients\n",
      "Saved 25000 patients\n",
      "Saved 30000 patients\n",
      "Saved 35000 patients\n",
      "Saved 40000 patients\n"
     ]
    },
    {
     "data": {
      "application/vnd.jupyter.widget-view+json": {
       "model_id": "9ee34fb3d01244dba28cb0fc9b8ecefc",
       "version_major": 2,
       "version_minor": 0
      },
      "text/plain": [
       "  0%|          | 0/5000 [00:00<?, ?it/s]"
      ]
     },
     "metadata": {},
     "output_type": "display_data"
    },
    {
     "name": "stdout",
     "output_type": "stream",
     "text": [
      "Saved 5000 patients\n"
     ]
    },
    {
     "data": {
      "application/vnd.jupyter.widget-view+json": {
       "model_id": "4e19ca3b113d4ae1a04480200533eed4",
       "version_major": 2,
       "version_minor": 0
      },
      "text/plain": [
       "  0%|          | 0/5000 [00:00<?, ?it/s]"
      ]
     },
     "metadata": {},
     "output_type": "display_data"
    },
    {
     "name": "stdout",
     "output_type": "stream",
     "text": [
      "Saved 5000 patients\n"
     ]
    }
   ],
   "source": [
    "# Finetune\n",
    "create_pid_seq(data=train_fine_pid_seq_hospitalized, pid_dir=\"./MIMIC-IV/PID_DEMOGRAPHIC_Sequences/Finetune_hospitalized/train\")\n",
    "create_pid_seq(data=val_fine_pid_seq_hospitalized, pid_dir=\"./MIMIC-IV/PID_DEMOGRAPHIC_Sequences/Finetune_hospitalized/validation\")\n",
    "create_pid_seq(data=test_fine_pid_seq_hospitalized, pid_dir=\"./MIMIC-IV/PID_DEMOGRAPHIC_Sequences/Finetune_hospitalized/test\")"
   ]
  },
  {
   "cell_type": "code",
   "execution_count": 38,
   "metadata": {},
   "outputs": [
    {
     "name": "stdout",
     "output_type": "stream",
     "text": [
      "Positive class percentage: 0.416425\n",
      "Class weights: [0.8567879 1.2006964]\n"
     ]
    },
    {
     "data": {
      "image/png": "[encoded data removed]",
      "text/plain": [
       "<Figure size 432x288 with 1 Axes>"
      ]
     },
     "metadata": {
      "needs_background": "light"
     },
     "output_type": "display_data"
    }
   ],
   "source": [
    "import matplotlib.pyplot as plt\n",
    "from sklearn.utils import class_weight\n",
    "\n",
    "train_fine_pid_seq_hospitalized_targets = [obs['hospitalized_three'] for obs in train_fine_pid_seq_hospitalized]\n",
    "\n",
    "classes = [val for val in range(2)]\n",
    "class_weights = class_weight.compute_class_weight(class_weight='balanced', classes=classes, y=train_fine_pid_seq_hospitalized_targets)\n",
    "\n",
    "plt.hist(train_fine_pid_seq_hospitalized_targets)\n",
    "print(f\"Positive class percentage: {sum(train_fine_pid_seq_hospitalized_targets) / len(train_fine_pid_seq_hospitalized_targets)}\")\n",
    "print(f\"Class weights: {class_weights}\")\n",
    "\n",
    "out_directory = \"./MIMIC-IV/PID_DEMOGRAPHIC_Sequences/Finetune_hospitalized\"\n",
    "with open(out_directory + '/class_weights.pkl', 'wb') as f:\n",
    "    pickle.dump(class_weights, f, protocol=pickle.HIGHEST_PROTOCOL)"
   ]
  },
  {
   "cell_type": "markdown",
   "metadata": {
    "id": "ByOu2VklTksB"
   },
   "source": [
    "### Sequence creation (Seven Day Hospitalization Stay Classification)"
   ]
  },
  {
   "cell_type": "code",
   "execution_count": 32,
   "metadata": {
    "id": "hkABVeM1xs2Z"
   },
   "outputs": [],
   "source": [
    "import os\n",
    "import pandas as pd\n",
    "try:\n",
    "    import cPickle as pickle\n",
    "except:\n",
    "    import pickle\n",
    "\n",
    "# Load data\n",
    "pid_data_directory = './MIMIC-IV/PID_DEMOGRAPHIC/pid_data_hosp.pkl'\n",
    "with open(pid_data_directory, 'rb') as f:     # name of hospitalization data is 'pid_data_hosp.pkl'\n",
    "    pid_data = pickle.load(f)"
   ]
  },
  {
   "cell_type": "code",
   "execution_count": 33,
   "metadata": {
    "colab": {
     "base_uri": "https://localhost:8080/"
    },
    "executionInfo": {
     "elapsed": 10,
     "status": "ok",
     "timestamp": 1627140403949,
     "user": {
      "displayName": "Diego Sáenz",
      "photoUrl": "https://lh3.googleusercontent.com/a-/AOh14Gjv_Ml1Ae2A5RhLeDd7Exj7G6ZVKlCYPrD9Rpeb7w=s64",
      "userId": "00681222444687719969"
     },
     "user_tz": -240
    },
    "id": "D375U_XHhshi",
    "outputId": "03e88ec5-3611-40bf-f934-66c9d270cbfd"
   },
   "outputs": [
    {
     "data": {
      "text/plain": [
       "256587"
      ]
     },
     "execution_count": 33,
     "metadata": {},
     "output_type": "execute_result"
    }
   ],
   "source": [
    "# Total number of patients\n",
    "pids = pid_data.subject_id.unique()\n",
    "len(pids)"
   ]
  },
  {
   "cell_type": "code",
   "execution_count": 34,
   "metadata": {},
   "outputs": [],
   "source": [
    "# Find recurrent patients\n",
    "recurrent = pid_data.groupby('subject_id')['hadm_id'].nunique().reset_index()\n",
    "recurrent = recurrent[recurrent.hadm_id > 1]\n",
    "recurrent = set(recurrent.subject_id)"
   ]
  },
  {
   "cell_type": "code",
   "execution_count": 35,
   "metadata": {},
   "outputs": [],
   "source": [
    "import random\n",
    "from sklearn.model_selection import train_test_split\n",
    "\n",
    "random.seed(12345)\n",
    "\n",
    "pretrain_size = int(len(pids) - 50000)\n",
    "fine_size = int(50000)\n",
    "\n",
    "_, fine_pids = train_test_split(pids, test_size=fine_size / len(pids), random_state=12345)"
   ]
  },
  {
   "cell_type": "markdown",
   "metadata": {
    "id": "lbL7oc5PqE5e"
   },
   "source": [
    "It is too slow to do this loop, so we do parallel processing:"
   ]
  },
  {
   "cell_type": "code",
   "execution_count": 36,
   "metadata": {
    "colab": {
     "base_uri": "https://localhost:8080/"
    },
    "executionInfo": {
     "elapsed": 1137870,
     "status": "ok",
     "timestamp": 1626608232987,
     "user": {
      "displayName": "Diego Sáenz",
      "photoUrl": "https://lh3.googleusercontent.com/a-/AOh14Gjv_Ml1Ae2A5RhLeDd7Exj7G6ZVKlCYPrD9Rpeb7w=s64",
      "userId": "00681222444687719969"
     },
     "user_tz": -240
    },
    "id": "3xTeJGlhknKx",
    "outputId": "9d34f76d-e113-4ca0-e695-1419baf82edd"
   },
   "outputs": [
    {
     "name": "stdout",
     "output_type": "stream",
     "text": [
      "Building patients sequences...\n",
      "Building finetune patients sequences...\n"
     ]
    }
   ],
   "source": [
    "%%time\n",
    "print('Building patients sequences...')\n",
    "import random\n",
    "import multiprocessing\n",
    "\n",
    "def pid_seq_bart_finetune_hosp(pid):\n",
    "    group = pid_data[pid_data['subject_id'].isin([pid])]\n",
    "    full_seq = []\n",
    "    diag_seq = []\n",
    "    hospitalized_seven = 0\n",
    "    num_visits = 0\n",
    "\n",
    "    regexp_dia9 = re.compile(r'DIA9_')\n",
    "    regexp_dia10 = re.compile(r'DIA10_')\n",
    "\n",
    "    patient_demographic = \" \" + group['anchor_age'].unique()[0] + \" \" + group['marital_status'].unique()[0] + \" \" + group['ethnicity'].unique()[0] + \" \" + group['gender'].unique()[0]\n",
    "    patient_demographic = re.sub(' +', ' ', patient_demographic)\n",
    "\n",
    "    for time, subgroup in group.sort_values(['dischtime','seq_num'], \n",
    "                                            ascending=True).groupby('dischtime', sort=False):\n",
    "        dischtime = min(subgroup.dischtime)\n",
    "        admittime = min(subgroup.admittime)\n",
    "        delta = dischtime - admittime\n",
    "\n",
    "        if delta.days > 7:\n",
    "            hospitalized_seven = 1\n",
    "            break\n",
    "\n",
    "        num_visits += 1\n",
    "        code_list = np.array(subgroup['med_code'].drop_duplicates()).tolist()\n",
    "\n",
    "        if len(code_list) > 1:\n",
    "            code_lm = ''\n",
    "            diag_code = ''\n",
    "            for code in code_list:\n",
    "                code_lm += code + ' '\n",
    "                if regexp_dia9.search(code) or regexp_dia10.search(code):\n",
    "                    diag_code += code + ' '\n",
    "        else:\n",
    "            code_lm = code_list[0] + ' '\n",
    "            diag_code = ''\n",
    "            if regexp_dia9.search(code_list[0]) or regexp_dia10.search(code_list[0]):\n",
    "                diag_code += code_list[0] + ' '\n",
    "            else:\n",
    "                diag_code += ' '\n",
    "\n",
    "        code_lm = code_lm[:-1]\n",
    "        diag_code = diag_code[:-1]\n",
    "        full_seq.append(code_lm)\n",
    "        diag_seq.append(diag_code)\n",
    "    \n",
    "    visits = ' & '.join(full_seq)\n",
    "    input_visits = ' & '.join(full_seq)\n",
    "    output_text = ' & '.join(diag_seq)\n",
    "\n",
    "    input_text = \"PID:\" + patient_demographic + \" $ \" + input_visits\n",
    "\n",
    "    return {\n",
    "        'id': pid, 'demographic_info': patient_demographic, 'original_text': visits, \n",
    "        'input_text': input_text, 'output_text': output_text, 'hospitalized_seven': hospitalized_seven\n",
    "        }\n",
    "\n",
    "# Finetune\n",
    "with multiprocessing.Pool(processes=24) as pool_obj:\n",
    "    print('Building finetune patients sequences...')\n",
    "    fine_pid_seq_hospitalized = pool_obj.map(pid_seq_bart_finetune_hosp, fine_pids)"
   ]
  },
  {
   "cell_type": "code",
   "execution_count": null,
   "metadata": {},
   "outputs": [
    {
     "data": {
      "text/plain": [
       "{'id': 15373225,\n",
       " 'demographic_info': ' 29 years old married white female',\n",
       " 'original_text': 'DIA10_F339 DIA10_E538 DIA10_Z803 DIA10_Z833 DIA10_Z801 DIA10_Z8249',\n",
       " 'input_text': 'PID: 29 years old married white female $ DIA10_F339 DIA10_E538 DIA10_Z803 DIA10_Z833 DIA10_Z801 DIA10_Z8249',\n",
       " 'output_text': 'DIA10_F339 DIA10_E538 DIA10_Z803 DIA10_Z833 DIA10_Z801 DIA10_Z8249',\n",
       " 'hospitalized': 1}"
      ]
     },
     "execution_count": 58,
     "metadata": {},
     "output_type": "execute_result"
    }
   ],
   "source": [
    "fine_pid_seq_hospitalized[0]"
   ]
  },
  {
   "cell_type": "code",
   "execution_count": null,
   "metadata": {
    "id": "3S9l-6s13Jg7"
   },
   "outputs": [],
   "source": [
    "# Write out the data\n",
    "out_directory = './MIMIC-IV/PID_DEMOGRAPHIC_Sequences'\n",
    "\n",
    "if not os.path.exists(out_directory):\n",
    "    os.makedirs(out_directory)\n",
    "\n",
    "with open(out_directory + '/fine_pid_seq_hospitalized_7.pkl', 'wb') as f:\n",
    "    pickle.dump(fine_pid_seq_hospitalized, f, protocol=pickle.HIGHEST_PROTOCOL)"
   ]
  },
  {
   "cell_type": "code",
   "execution_count": 12,
   "metadata": {
    "id": "JymQwFpv3yvM"
   },
   "outputs": [],
   "source": [
    "# Load Patient Sequences\n",
    "out_directory = './MIMIC-IV/PID_DEMOGRAPHIC_Sequences'\n",
    "\n",
    "with open(out_directory + '/fine_pid_seq_hospitalized_7.pkl', 'rb') as f:\n",
    "    fine_pid_seq_hospitalized = pickle.load(f)"
   ]
  },
  {
   "cell_type": "code",
   "execution_count": 60,
   "metadata": {
    "colab": {
     "base_uri": "https://localhost:8080/"
    },
    "executionInfo": {
     "elapsed": 1476,
     "status": "ok",
     "timestamp": 1627140407666,
     "user": {
      "displayName": "Diego Sáenz",
      "photoUrl": "https://lh3.googleusercontent.com/a-/AOh14Gjv_Ml1Ae2A5RhLeDd7Exj7G6ZVKlCYPrD9Rpeb7w=s64",
      "userId": "00681222444687719969"
     },
     "user_tz": -240
    },
    "id": "wiVMCXrK5VRU",
    "outputId": "7d8f7735-577b-48ec-a1a7-2c2e950e22cf"
   },
   "outputs": [
    {
     "name": "stdout",
     "output_type": "stream",
     "text": [
      "Splitting pretraining and fine-tuning datsets...\n"
     ]
    }
   ],
   "source": [
    "print('Splitting pretraining and fine-tuning datsets...')\n",
    "from sklearn.model_selection import train_test_split\n",
    "\n",
    "# Fine-tune\n",
    "fine_size = len(fine_pid_seq_hospitalized)\n",
    "\n",
    "train_fine_pid_seq_hospitalized, val_test_fine_pid_seq_hospitalized = train_test_split(fine_pid_seq_hospitalized, test_size=0.2, random_state=12345)\n",
    "val_fine_pid_seq_hospitalized, test_fine_pid_seq_hospitalized = train_test_split(val_test_fine_pid_seq_hospitalized, test_size=0.5, random_state=12345)"
   ]
  },
  {
   "cell_type": "code",
   "execution_count": 61,
   "metadata": {
    "colab": {
     "base_uri": "https://localhost:8080/"
    },
    "executionInfo": {
     "elapsed": 19,
     "status": "ok",
     "timestamp": 1627140407671,
     "user": {
      "displayName": "Diego Sáenz",
      "photoUrl": "https://lh3.googleusercontent.com/a-/AOh14Gjv_Ml1Ae2A5RhLeDd7Exj7G6ZVKlCYPrD9Rpeb7w=s64",
      "userId": "00681222444687719969"
     },
     "user_tz": -240
    },
    "id": "cpXUKe2H6i2J",
    "outputId": "8370a750-6fc0-4259-84d5-38c2244bfb76"
   },
   "outputs": [
    {
     "name": "stdout",
     "output_type": "stream",
     "text": [
      "Fine-tune datasets:\n",
      "Training size: 40000 (80.0%)\n",
      "Validation size: 5000 (10.0%)\n",
      "Testing size: 5000 (10.0%)\n"
     ]
    }
   ],
   "source": [
    "print('Fine-tune datasets:')\n",
    "print(f'Training size: {len(train_fine_pid_seq_hospitalized)} ({round(len(train_fine_pid_seq_hospitalized) / len(fine_pid_seq_hospitalized), 2) * 100}%)')\n",
    "print(f'Validation size: {len(val_fine_pid_seq_hospitalized)} ({round(len(val_fine_pid_seq_hospitalized) / len(fine_pid_seq_hospitalized), 2) * 100}%)')\n",
    "print(f'Testing size: {len(test_fine_pid_seq_hospitalized)} ({round(len(test_fine_pid_seq_hospitalized) / len(fine_pid_seq_hospitalized), 2) * 100}%)')"
   ]
  },
  {
   "cell_type": "code",
   "execution_count": 62,
   "metadata": {},
   "outputs": [],
   "source": [
    "import pickle\n",
    "from tqdm.auto import tqdm\n",
    "\n",
    "def create_text_seq(data, txt_dir):\n",
    "    text_data = []\n",
    "    file_count = 0\n",
    "\n",
    "    for sample in tqdm(data):\n",
    "        text_data.append(sample['demographic_info'])\n",
    "        text_data.append(sample['original_text'])\n",
    "        if len(text_data) == 5000:\n",
    "            # once we hit the 5K mark, save to file\n",
    "            if not os.path.exists(txt_dir):\n",
    "                os.makedirs(txt_dir)\n",
    "            with open(f'{txt_dir}/text_{file_count}.txt', 'w', encoding='utf-8') as fp:\n",
    "                fp.write('\\n'.join(text_data))\n",
    "            text_data = []\n",
    "            file_count += 1\n",
    "            print(f\"Saved {5000 + (5000 * (file_count - 1))} patients\")\n",
    "\n",
    "    if (len(data) % 5000) != 0:\n",
    "        with open(f'{txt_dir}/text_{file_count}.txt', 'w', encoding='utf-8') as fp:\n",
    "            fp.write('\\n'.join(text_data))\n",
    "        print(f\"Saved {5000 + (5000 * (file_count - 1)) + len(text_data)} patients\")\n",
    "\n",
    "def create_pid_seq(data, pid_dir, protocol=pickle.HIGHEST_PROTOCOL):\n",
    "    pid_data = []\n",
    "    file_count = 0\n",
    "\n",
    "    for sample in tqdm(data):\n",
    "\n",
    "        pid_data.append(sample)\n",
    "\n",
    "        if len(pid_data) == 5000:\n",
    "            # once we hit the 5K mark, save to file\n",
    "            if not os.path.exists(pid_dir):\n",
    "                os.makedirs(pid_dir)\n",
    "\n",
    "            with open(f'{pid_dir}/pids_{file_count}.pkl', 'wb') as f:\n",
    "                pickle.dump(pid_data, f, protocol=protocol)\n",
    "\n",
    "            pid_data = []\n",
    "            file_count += 1\n",
    "\n",
    "            print(f\"Saved {5000 + (5000 * (file_count - 1))} patients\")\n",
    "\n",
    "    if (len(data) % 5000) != 0:\n",
    "\n",
    "        with open(f'{pid_dir}/pids_{file_count}.pkl', 'wb') as f:\n",
    "            pickle.dump(pid_data, f, protocol=protocol)\n",
    "\n",
    "        print(f\"Saved {5000 + (5000 * (file_count - 1)) + len(pid_data)} patients\")"
   ]
  },
  {
   "cell_type": "markdown",
   "metadata": {},
   "source": [
    "Create training and validation datasets:"
   ]
  },
  {
   "cell_type": "code",
   "execution_count": 63,
   "metadata": {},
   "outputs": [
    {
     "data": {
      "application/vnd.jupyter.widget-view+json": {
       "model_id": "052cca5cb92946bea370db0180c290dc",
       "version_major": 2,
       "version_minor": 0
      },
      "text/plain": [
       "  0%|          | 0/40000 [00:00<?, ?it/s]"
      ]
     },
     "metadata": {},
     "output_type": "display_data"
    },
    {
     "name": "stdout",
     "output_type": "stream",
     "text": [
      "Saved 5000 patients\n",
      "Saved 10000 patients\n",
      "Saved 15000 patients\n",
      "Saved 20000 patients\n",
      "Saved 25000 patients\n",
      "Saved 30000 patients\n",
      "Saved 35000 patients\n",
      "Saved 40000 patients\n"
     ]
    },
    {
     "data": {
      "application/vnd.jupyter.widget-view+json": {
       "model_id": "6fa9def2097249ce8a2d0e654797573d",
       "version_major": 2,
       "version_minor": 0
      },
      "text/plain": [
       "  0%|          | 0/5000 [00:00<?, ?it/s]"
      ]
     },
     "metadata": {},
     "output_type": "display_data"
    },
    {
     "name": "stdout",
     "output_type": "stream",
     "text": [
      "Saved 5000 patients\n"
     ]
    },
    {
     "data": {
      "application/vnd.jupyter.widget-view+json": {
       "model_id": "f4fc3bc130c14f3889fbf26ae5fe8970",
       "version_major": 2,
       "version_minor": 0
      },
      "text/plain": [
       "  0%|          | 0/5000 [00:00<?, ?it/s]"
      ]
     },
     "metadata": {},
     "output_type": "display_data"
    },
    {
     "name": "stdout",
     "output_type": "stream",
     "text": [
      "Saved 5000 patients\n"
     ]
    }
   ],
   "source": [
    "# Finetune\n",
    "create_pid_seq(data=train_fine_pid_seq_hospitalized, pid_dir=\"./MIMIC-IV/PID_DEMOGRAPHIC_Sequences/Finetune_hospitalized_7/train\")\n",
    "create_pid_seq(data=val_fine_pid_seq_hospitalized, pid_dir=\"./MIMIC-IV/PID_DEMOGRAPHIC_Sequences/Finetune_hospitalized_7/validation\")\n",
    "create_pid_seq(data=test_fine_pid_seq_hospitalized, pid_dir=\"./MIMIC-IV/PID_DEMOGRAPHIC_Sequences/Finetune_hospitalized_7/test\")"
   ]
  },
  {
   "cell_type": "code",
   "execution_count": 20,
   "metadata": {},
   "outputs": [
    {
     "name": "stdout",
     "output_type": "stream",
     "text": [
      "Positive class percentage: 0.18085\n",
      "Class weights: [0.61038882 2.76472215]\n"
     ]
    },
    {
     "data": {
      "image/png": "[encoded data removed]",
      "text/plain": [
       "<Figure size 432x288 with 1 Axes>"
      ]
     },
     "metadata": {
      "needs_background": "light"
     },
     "output_type": "display_data"
    }
   ],
   "source": [
    "import matplotlib.pyplot as plt\n",
    "from sklearn.utils import class_weight\n",
    "\n",
    "train_fine_pid_seq_hospitalized_targets = [obs['hospitalized_seven'] for obs in train_fine_pid_seq_hospitalized]\n",
    "\n",
    "classes = [val for val in range(2)]\n",
    "class_weights = class_weight.compute_class_weight(class_weight='balanced', classes=classes, y=train_fine_pid_seq_hospitalized_targets)\n",
    "\n",
    "plt.hist(train_fine_pid_seq_hospitalized_targets)\n",
    "print(f\"Positive class percentage: {sum(train_fine_pid_seq_hospitalized_targets) / len(train_fine_pid_seq_hospitalized_targets)}\")\n",
    "print(f\"Class weights: {class_weights}\")\n",
    "\n",
    "out_directory = \"./MIMIC-IV/PID_DEMOGRAPHIC_Sequences/Finetune_hospitalized_7\"\n",
    "with open(out_directory + '/class_weights.pkl', 'wb') as f:\n",
    "    pickle.dump(class_weights, f, protocol=pickle.HIGHEST_PROTOCOL)"
   ]
  },
  {
   "cell_type": "markdown",
   "metadata": {
    "id": "ByOu2VklTksB"
   },
   "source": [
    "### Sequence creation (Readmission for six and twelve months window frame)"
   ]
  },
  {
   "cell_type": "code",
   "execution_count": null,
   "metadata": {
    "id": "hkABVeM1xs2Z"
   },
   "outputs": [],
   "source": [
    "import os\n",
    "import pandas as pd\n",
    "try:\n",
    "    import cPickle as pickle\n",
    "except:\n",
    "    import pickle\n",
    "\n",
    "# Load data\n",
    "pid_data_directory = './MIMIC-IV/PID_DEMOGRAPHIC/pid_data_hosp.pkl'\n",
    "with open(pid_data_directory, 'rb') as f:\n",
    "    pid_data = pickle.load(f)"
   ]
  },
  {
   "cell_type": "code",
   "execution_count": 3,
   "metadata": {
    "colab": {
     "base_uri": "https://localhost:8080/"
    },
    "executionInfo": {
     "elapsed": 10,
     "status": "ok",
     "timestamp": 1627140403949,
     "user": {
      "displayName": "Diego Sáenz",
      "photoUrl": "https://lh3.googleusercontent.com/a-/AOh14Gjv_Ml1Ae2A5RhLeDd7Exj7G6ZVKlCYPrD9Rpeb7w=s64",
      "userId": "00681222444687719969"
     },
     "user_tz": -240
    },
    "id": "D375U_XHhshi",
    "outputId": "03e88ec5-3611-40bf-f934-66c9d270cbfd"
   },
   "outputs": [
    {
     "data": {
      "text/plain": [
       "256587"
      ]
     },
     "execution_count": 3,
     "metadata": {},
     "output_type": "execute_result"
    }
   ],
   "source": [
    "# Total number of patients\n",
    "pids = pid_data.subject_id.unique()\n",
    "len(pids)"
   ]
  },
  {
   "cell_type": "code",
   "execution_count": 113,
   "metadata": {},
   "outputs": [],
   "source": [
    "# Find recurrent patients\n",
    "recurrent = pid_data.groupby('subject_id')['hadm_id'].nunique().reset_index()\n",
    "recurrent = recurrent[recurrent.hadm_id > 1]\n",
    "recurrent = set(recurrent.subject_id)"
   ]
  },
  {
   "cell_type": "code",
   "execution_count": 114,
   "metadata": {},
   "outputs": [
    {
     "name": "stdout",
     "output_type": "stream",
     "text": [
      "Total number of fine-tune examples: 50000\n",
      "Total number of fine-tune examples with more than one visit: 16638\n"
     ]
    }
   ],
   "source": [
    "import random\n",
    "from sklearn.model_selection import train_test_split\n",
    "\n",
    "random.seed(12345)\n",
    "\n",
    "pretrain_size = int(len(pids) - 50000)\n",
    "fine_size = int(50000)\n",
    "\n",
    "mlm_pids, fine_pids = train_test_split(pids, test_size=fine_size / len(pids), random_state=12345)\n",
    "train_mlm_pids, val_mlm_pids = train_test_split(mlm_pids, test_size=0.1, random_state=12345)\n",
    "\n",
    "fine_pids_recurrent = [pid for pid in fine_pids if pid in recurrent]\n",
    "\n",
    "print(f\"Total number of fine-tune examples: {len(fine_pids)}\")\n",
    "print(f\"Total number of fine-tune examples with more than one visit: {len(fine_pids_recurrent)}\")"
   ]
  },
  {
   "cell_type": "code",
   "execution_count": 132,
   "metadata": {},
   "outputs": [],
   "source": [
    "fine_pid_seq =[]\n",
    "\n",
    "for pid in fine_pids_recurrent:\n",
    "    group = pid_data[pid_data['subject_id'].isin([pid])].copy()\n",
    "    last_admit = np.max(group.admittime)\n",
    "    full_seq = []\n",
    "    diag_seq = []\n",
    "    dischtimes = []\n",
    "\n",
    "    regexp_dia9 = re.compile(r'DIA9_')\n",
    "    regexp_dia10 = re.compile(r'DIA10_')\n",
    "\n",
    "    patient_demographic = \" \" + group['anchor_age'].unique()[0] + \" \" + group['marital_status'].unique()[0] + \" \" + group['ethnicity'].unique()[0] + \" \" + group['gender'].unique()[0]\n",
    "    patient_demographic = re.sub(' +', ' ', patient_demographic)\n",
    "\n",
    "    for time, subgroup in group.sort_values(['dischtime','seq_num'], \n",
    "                                            ascending=True).groupby('dischtime', sort=False):\n",
    "        admittime = np.min(subgroup.admittime)\n",
    "        if admittime == last_admit:\n",
    "            break\n",
    "        dischtime = np.min(subgroup.dischtime)\n",
    "        \n",
    "        code_list = np.array(subgroup['med_code'].drop_duplicates()).tolist()\n",
    "\n",
    "        if len(code_list) > 1:\n",
    "            code_lm = ''\n",
    "            diag_code = ''\n",
    "            for code in code_list:\n",
    "                code_lm += code + ' '\n",
    "                if regexp_dia9.search(code) or regexp_dia10.search(code):\n",
    "                    diag_code += code + ' '\n",
    "        else:\n",
    "            code_lm = code_list[0] + ' '\n",
    "            diag_code = ''\n",
    "            if regexp_dia9.search(code_list[0]) or regexp_dia10.search(code_list[0]):\n",
    "                diag_code += code_list[0] + ' '\n",
    "            else:\n",
    "                diag_code += ' '\n",
    "\n",
    "        code_lm = code_lm[:-1]\n",
    "        diag_code = diag_code[:-1]\n",
    "        full_seq.append(code_lm)\n",
    "        diag_seq.append(diag_code)\n",
    "\n",
    "    visits = ' & '.join(full_seq)\n",
    "    input_visits = ' & '.join(full_seq)\n",
    "    output_text = ' & '.join(diag_seq)\n",
    "\n",
    "    input_text = \"PID:\" + patient_demographic + \" $ \" + input_visits\n",
    "\n",
    "    delta_recall = (last_admit - dischtime) / np.timedelta64(1, 'M')\n",
    "    six_readmission = 1 if delta_recall < 6 else 0\n",
    "    twelve_readmission = 1 if delta_recall < 12 else 0\n",
    "\n",
    "    fine_pid_seq.append({\n",
    "        'id': pid, 'demographic_info': patient_demographic, 'original_text': visits, \n",
    "        'input_text': input_text, 'output_text': output_text, \n",
    "        'six_readmission': six_readmission, 'twelve_readmission': twelve_readmission\n",
    "        }) "
   ]
  },
  {
   "cell_type": "code",
   "execution_count": 140,
   "metadata": {
    "id": "3S9l-6s13Jg7"
   },
   "outputs": [],
   "source": [
    "# Write out the data\n",
    "out_directory = './MIMIC-IV/PID_DEMOGRAPHIC_Sequences/patient_recall'\n",
    "\n",
    "if not os.path.exists(out_directory):\n",
    "    os.makedirs(out_directory)\n",
    "\n",
    "with open(out_directory + '/fine_pid_seq.pkl', 'wb') as f:\n",
    "    pickle.dump(fine_pid_seq, f, protocol=pickle.HIGHEST_PROTOCOL)"
   ]
  },
  {
   "cell_type": "code",
   "execution_count": null,
   "metadata": {
    "id": "JymQwFpv3yvM"
   },
   "outputs": [],
   "source": [
    "# Load Patient Sequences\n",
    "out_directory = './MIMIC-IV/PID_DEMOGRAPHIC_Sequences/patient_recall'\n",
    "\n",
    "with open(out_directory + '/fine_pid_seq.pkl', 'rb') as f:\n",
    "    fine_pid_seq = pickle.load(f)"
   ]
  },
  {
   "cell_type": "code",
   "execution_count": 143,
   "metadata": {},
   "outputs": [
    {
     "data": {
      "text/plain": [
       "[{'id': 15373225,\n",
       "  'demographic_info': ' 29 years old married white female',\n",
       "  'original_text': 'DIA10_F339 DIA10_E538 DIA10_Z803 DIA10_Z833 DIA10_Z801 DIA10_Z8249',\n",
       "  'input_text': 'PID: 29 years old married white female $ DIA10_F339 DIA10_E538 DIA10_Z803 DIA10_Z833 DIA10_Z801 DIA10_Z8249',\n",
       "  'output_text': 'DIA10_F339 DIA10_E538 DIA10_Z803 DIA10_Z833 DIA10_Z801 DIA10_Z8249',\n",
       "  'six_recall': 0,\n",
       "  'twelve_recall': 0},\n",
       " {'id': 15793456,\n",
       "  'demographic_info': ' 56 years old single black/african american male',\n",
       "  'original_text': 'DIA9_49322 DIA9_27802 DIA9_4659 DIA9_V5866 DIA9_V1582 DIA9_V8522 DIA9_4011',\n",
       "  'input_text': 'PID: 56 years old single black/african american male $ DIA9_49322 DIA9_27802 DIA9_4659 DIA9_V5866 DIA9_V1582 DIA9_V8522 DIA9_4011',\n",
       "  'output_text': 'DIA9_49322 DIA9_27802 DIA9_4659 DIA9_V5866 DIA9_V1582 DIA9_V8522 DIA9_4011',\n",
       "  'six_recall': 0,\n",
       "  'twelve_recall': 0}]"
      ]
     },
     "execution_count": 143,
     "metadata": {},
     "output_type": "execute_result"
    }
   ],
   "source": [
    "fine_pid_seq[:2]"
   ]
  },
  {
   "cell_type": "code",
   "execution_count": 144,
   "metadata": {
    "colab": {
     "base_uri": "https://localhost:8080/"
    },
    "executionInfo": {
     "elapsed": 1476,
     "status": "ok",
     "timestamp": 1627140407666,
     "user": {
      "displayName": "Diego Sáenz",
      "photoUrl": "https://lh3.googleusercontent.com/a-/AOh14Gjv_Ml1Ae2A5RhLeDd7Exj7G6ZVKlCYPrD9Rpeb7w=s64",
      "userId": "00681222444687719969"
     },
     "user_tz": -240
    },
    "id": "wiVMCXrK5VRU",
    "outputId": "7d8f7735-577b-48ec-a1a7-2c2e950e22cf"
   },
   "outputs": [
    {
     "name": "stdout",
     "output_type": "stream",
     "text": [
      "Splitting pretraining and fine-tuning datsets...\n"
     ]
    }
   ],
   "source": [
    "print('Splitting pretraining and fine-tuning datsets...')\n",
    "from sklearn.model_selection import train_test_split\n",
    "\n",
    "# Fine-tune\n",
    "fine_size = len(fine_pid_seq)\n",
    "\n",
    "train_fine_pids, val_test_fine_pids = train_test_split(fine_pids_recurrent, test_size=0.2, random_state=12345)\n",
    "val_fine_pids, test_fine_pids = train_test_split(val_test_fine_pids, test_size=0.5, random_state=12345)"
   ]
  },
  {
   "cell_type": "code",
   "execution_count": 147,
   "metadata": {},
   "outputs": [],
   "source": [
    "train_fine_pid_seq = [obs for obs in fine_pid_seq if obs['id'] in train_fine_pids ]\n",
    "val_fine_pid_seq = [obs for obs in fine_pid_seq if obs['id'] in val_fine_pids ]\n",
    "test_fine_pid_seq = [obs for obs in fine_pid_seq if obs['id'] in test_fine_pids ]"
   ]
  },
  {
   "cell_type": "code",
   "execution_count": 148,
   "metadata": {},
   "outputs": [
    {
     "name": "stdout",
     "output_type": "stream",
     "text": [
      "Fine-tune datasets:\n",
      "Training size: 13310 (80.0%)\n",
      "Validation size: 1664 (10.0%)\n",
      "Testing size: 1664 (10.0%)\n"
     ]
    }
   ],
   "source": [
    "print('Fine-tune datasets:')\n",
    "print(f'Training size: {len(train_fine_pid_seq)} ({round(len(train_fine_pid_seq) / len(fine_pid_seq), 2) * 100}%)')\n",
    "print(f'Validation size: {len(val_fine_pid_seq)} ({round(len(val_fine_pid_seq) / len(fine_pid_seq), 2) * 100}%)')\n",
    "print(f'Testing size: {len(test_fine_pid_seq)} ({round(len(test_fine_pid_seq) / len(fine_pid_seq), 2) * 100}%)')"
   ]
  },
  {
   "cell_type": "code",
   "execution_count": 162,
   "metadata": {},
   "outputs": [
    {
     "name": "stdout",
     "output_type": "stream",
     "text": [
      "Positive rate: 0.5497370398196845\n",
      "Class weights: [1.11046221 0.90952576]\n"
     ]
    },
    {
     "data": {
      "image/png": "[encoded data removed]",
      "text/plain": [
       "<Figure size 432x288 with 1 Axes>"
      ]
     },
     "metadata": {
      "needs_background": "light"
     },
     "output_type": "display_data"
    }
   ],
   "source": [
    "import matplotlib.pyplot as plt\n",
    "from sklearn.utils import class_weight\n",
    "\n",
    "six_rec_train_fine_pid_seq = [obs['six_recall'] for obs in fine_pid_seq if obs['id'] in train_fine_pids ]\n",
    "\n",
    "classes = np.unique(six_rec_train_fine_pid_seq)\n",
    "y = six_rec_train_fine_pid_seq\n",
    "class_weights_six = class_weight.compute_class_weight(class_weight='balanced', classes=classes, y=y)\n",
    "\n",
    "plt.bar([str(val) for val in classes], [len(six_rec_train_fine_pid_seq) - sum(six_rec_train_fine_pid_seq), sum(six_rec_train_fine_pid_seq)])\n",
    "plt.title(\"Six month recall\")\n",
    "plt.show\n",
    "\n",
    "print(f\"Positive rate: {sum(six_rec_train_fine_pid_seq) / len(six_rec_train_fine_pid_seq)}\")\n",
    "print(f\"Class weights: {class_weights_six}\")"
   ]
  },
  {
   "cell_type": "code",
   "execution_count": 163,
   "metadata": {},
   "outputs": [
    {
     "name": "stdout",
     "output_type": "stream",
     "text": [
      "Positive rate: 0.65236664162284\n",
      "Class weights: [1.43829695 0.76644017]\n"
     ]
    },
    {
     "data": {
      "image/png": "[encoded data removed]",
      "text/plain": [
       "<Figure size 432x288 with 1 Axes>"
      ]
     },
     "metadata": {
      "needs_background": "light"
     },
     "output_type": "display_data"
    }
   ],
   "source": [
    "import matplotlib.pyplot as plt\n",
    "from sklearn.utils import class_weight\n",
    "\n",
    "twelve_rec_train_fine_pid_seq = [obs['twelve_recall'] for obs in fine_pid_seq if obs['id'] in train_fine_pids ]\n",
    "\n",
    "classes = np.unique(twelve_rec_train_fine_pid_seq)\n",
    "y = twelve_rec_train_fine_pid_seq\n",
    "class_weights_twelve = class_weight.compute_class_weight(class_weight='balanced', classes=classes, y=y)\n",
    "\n",
    "plt.bar([str(val) for val in classes], [len(twelve_rec_train_fine_pid_seq) - sum(twelve_rec_train_fine_pid_seq), sum(twelve_rec_train_fine_pid_seq)])\n",
    "plt.title(\"Twelve month recall\")\n",
    "plt.show\n",
    "\n",
    "print(f\"Positive rate: {sum(twelve_rec_train_fine_pid_seq) / len(twelve_rec_train_fine_pid_seq)}\")\n",
    "print(f\"Class weights: {class_weights_twelve}\")"
   ]
  },
  {
   "cell_type": "code",
   "execution_count": 172,
   "metadata": {},
   "outputs": [],
   "source": [
    "# Write out the data\n",
    "out_directory = './MIMIC-IV/PID_DEMOGRAPHIC_Sequences/Finetune_recall'\n",
    "\n",
    "if not os.path.exists(out_directory):\n",
    "    os.makedirs(out_directory)\n",
    "\n",
    "with open(out_directory + '/class_weights_six.pkl', 'wb') as f:\n",
    "    pickle.dump(class_weights_six, f, protocol=pickle.HIGHEST_PROTOCOL)\n",
    "\n",
    "with open(out_directory + '/class_weights_twelve.pkl', 'wb') as f:\n",
    "    pickle.dump(class_weights_twelve, f, protocol=pickle.HIGHEST_PROTOCOL)"
   ]
  },
  {
   "cell_type": "code",
   "execution_count": 176,
   "metadata": {},
   "outputs": [],
   "source": [
    "import pickle\n",
    "from tqdm.auto import tqdm\n",
    "\n",
    "def create_text_seq(data, txt_dir):\n",
    "    text_data = []\n",
    "    file_count = 0\n",
    "\n",
    "    for sample in tqdm(data):\n",
    "        text_data.append(sample['demographic_info'])\n",
    "        text_data.append(sample['original_text'])\n",
    "        if len(text_data) == 5000:\n",
    "            # once we hit the 5K mark, save to file\n",
    "            if not os.path.exists(txt_dir):\n",
    "                os.makedirs(txt_dir)\n",
    "            with open(f'{txt_dir}/text_{file_count}.txt', 'w', encoding='utf-8') as fp:\n",
    "                fp.write('\\n'.join(text_data))\n",
    "            text_data = []\n",
    "            file_count += 1\n",
    "            print(f\"Saved {5000 + (5000 * (file_count - 1))} patients\")\n",
    "\n",
    "    if (len(data) % 5000) != 0:\n",
    "        with open(f'{txt_dir}/text_{file_count}.txt', 'w', encoding='utf-8') as fp:\n",
    "            fp.write('\\n'.join(text_data))\n",
    "        print(f\"Saved {5000 + (5000 * (file_count - 1)) + len(text_data)} patients\")\n",
    "\n",
    "def create_pid_seq(data, pid_dir, protocol=pickle.HIGHEST_PROTOCOL):\n",
    "    pid_data = []\n",
    "    file_count = 0\n",
    "    \n",
    "    if not os.path.exists(pid_dir):\n",
    "        os.makedirs(pid_dir)\n",
    "\n",
    "    for sample in tqdm(data):\n",
    "\n",
    "        pid_data.append(sample)\n",
    "\n",
    "        if len(pid_data) == 5000:\n",
    "            # once we hit the 5K mark, save to file\n",
    "\n",
    "            with open(f'{pid_dir}/pids_{file_count}.pkl', 'wb') as f:\n",
    "                pickle.dump(pid_data, f, protocol=protocol)\n",
    "\n",
    "            pid_data = []\n",
    "            file_count += 1\n",
    "\n",
    "            print(f\"Saved {5000 + (5000 * (file_count - 1))} patients\")\n",
    "\n",
    "    if (len(data) % 5000) != 0:\n",
    "\n",
    "        with open(f'{pid_dir}/pids_{file_count}.pkl', 'wb') as f:\n",
    "            pickle.dump(pid_data, f, protocol=protocol)\n",
    "\n",
    "        print(f\"Saved {5000 + (5000 * (file_count - 1)) + len(pid_data)} patients\")"
   ]
  },
  {
   "cell_type": "markdown",
   "metadata": {},
   "source": [
    "Create training and validation datasets:"
   ]
  },
  {
   "cell_type": "code",
   "execution_count": 177,
   "metadata": {},
   "outputs": [
    {
     "data": {
      "application/vnd.jupyter.widget-view+json": {
       "model_id": "49b78b2d84c5492db8680fda57e3e89a",
       "version_major": 2,
       "version_minor": 0
      },
      "text/plain": [
       "  0%|          | 0/13310 [00:00<?, ?it/s]"
      ]
     },
     "metadata": {},
     "output_type": "display_data"
    },
    {
     "name": "stdout",
     "output_type": "stream",
     "text": [
      "Saved 5000 patients\n",
      "Saved 10000 patients\n",
      "Saved 13310 patients\n"
     ]
    },
    {
     "data": {
      "application/vnd.jupyter.widget-view+json": {
       "model_id": "695e908f5999471dae52c1398b4939b3",
       "version_major": 2,
       "version_minor": 0
      },
      "text/plain": [
       "  0%|          | 0/1664 [00:00<?, ?it/s]"
      ]
     },
     "metadata": {},
     "output_type": "display_data"
    },
    {
     "name": "stdout",
     "output_type": "stream",
     "text": [
      "Saved 1664 patients\n"
     ]
    },
    {
     "data": {
      "application/vnd.jupyter.widget-view+json": {
       "model_id": "bacf3e4d992c4cc5a712a5fe9894aa34",
       "version_major": 2,
       "version_minor": 0
      },
      "text/plain": [
       "  0%|          | 0/1664 [00:00<?, ?it/s]"
      ]
     },
     "metadata": {},
     "output_type": "display_data"
    },
    {
     "name": "stdout",
     "output_type": "stream",
     "text": [
      "Saved 1664 patients\n"
     ]
    }
   ],
   "source": [
    "# Finetune\n",
    "create_pid_seq(data=train_fine_pid_seq, pid_dir=\"./MIMIC-IV/PID_DEMOGRAPHIC_Sequences/Finetune_recall/train\")\n",
    "create_pid_seq(data=val_fine_pid_seq, pid_dir=\"./MIMIC-IV/PID_DEMOGRAPHIC_Sequences/Finetune_recall/validation\")\n",
    "create_pid_seq(data=test_fine_pid_seq, pid_dir=\"./MIMIC-IV/PID_DEMOGRAPHIC_Sequences/Finetune_recall/test\")"
   ]
  },
  {
   "cell_type": "markdown",
   "metadata": {},
   "source": [
    "# Implemented by Diego Saenz"
   ]
  }
 ],
 "metadata": {
  "interpreter": {
   "hash": "a9bf9147a5f62b2348ba97e59831ed9a13e7cec77bc038ea32dee53a39ee9d85"
  },
  "kernelspec": {
   "display_name": "Python 3.7.11",
   "language": "python",
   "name": "python3"
  },
  "language_info": {
   "codemirror_mode": {
    "name": "ipython",
    "version": 3
   },
   "file_extension": ".py",
   "mimetype": "text/x-python",
   "name": "python",
   "nbconvert_exporter": "python",
   "pygments_lexer": "ipython3",
   "version": "3.7.11"
  }
 },
 "nbformat": 4,
 "nbformat_minor": 2
}
